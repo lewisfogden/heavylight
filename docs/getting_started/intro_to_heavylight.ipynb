{
 "cells": [
  {
   "cell_type": "markdown",
   "metadata": {},
   "source": [
    "# An Introduction to Actuarial Modelling With Heavylight\n",
    "\n",
    "This page provides a guided walkthrough of how to develop and run an actuarial model using `heavylight`.\n",
    "\n",
    "## Before you start\n",
    "\n",
    "- Ensure you have Python 3.8 or newer installed: [Download Python](https://www.python.org/downloads/)\n",
    "- Install heavylight from [pypi](https://pypi.org/project/heavylight/): `python -m pip install heavylight` or `pip install heavylight`\n",
    "- If working interactively, install [jupyter lab](https://jupyter.org/install)\n",
    "\n",
    "Once installed, check libraries are installed, and check the version of heavylight:"
   ]
  },
  {
   "cell_type": "code",
   "execution_count": 1,
   "metadata": {},
   "outputs": [
    {
     "name": "stdout",
     "output_type": "stream",
     "text": [
      "Version: heavylight.__version__ = '1.0.10'\n"
     ]
    }
   ],
   "source": [
    "import heavylight\n",
    "import pandas as pd\n",
    "import numpy as np\n",
    "print(f\"Version: {heavylight.__version__ = }\")"
   ]
  },
  {
   "cell_type": "markdown",
   "metadata": {},
   "source": [
    "## Overview\n",
    "\n",
    "This document covers the following stages in development and execution of the model:\n",
    "\n",
    " - define the model\n",
    " - pass in data (or simulate)\n",
    " - pass in assumptions\n",
    " - run the model\n",
    " - viewing the results\n",
    "\n",
    "In practice, defining, loading data and loading assumptions need to be carried out in parallel, so we will define several iterations of the model (`Model1`, `Model2`...), introducing one concept at a time.  You can skip to the end to see the final iteration of the model.\n",
    "\n",
    "This guide is designed to give an introduction, so doesn't cover some of the more advanced techniques around performance optimisation (vectorisation using numpy/tensors) or table/model design."
   ]
  },
  {
   "cell_type": "markdown",
   "metadata": {},
   "source": [
    "## Define the model\n",
    "\n",
    "The model is defined as a subclass of `heavylight.Model`, and each value or variable we want to calculate is defined as a method (a function belonging to the class).\n",
    "\n",
    "In actuarial models we are usually interested in projecting through time, this corresponds to methods with one argument `t`.  When the model is run these are automatically calculated, for each time period specified up to `proj_len`.\n",
    "\n",
    "`self` is always the first parameter in a python class method.  This allows us to refer to the class instance, including any other data attributes or methods, without passing them into the method separately.\n",
    "\n",
    "Want to know more about classes?  The python class tutorial can help: https://docs.python.org/3/tutorial/classes.html"
   ]
  },
  {
   "cell_type": "code",
   "execution_count": 2,
   "metadata": {},
   "outputs": [],
   "source": [
    "class Model1(heavylight.Model):\n",
    "    def t(self, t):\n",
    "        \"\"\"time\"\"\"\n",
    "        return t\n",
    "    \n",
    "    def num_alive(self, t):\n",
    "        \"\"\"probability that life is alive at time t, given alive at time 0\"\"\"\n",
    "        if t == 0:\n",
    "            return 1\n",
    "        else:\n",
    "            return self.num_alive(t - 1) * 0.99"
   ]
  },
  {
   "cell_type": "markdown",
   "metadata": {},
   "source": [
    "We can quickly test the model runs by creating an instance of it, and assign it to the variable `model1`.  When an model is instanced, it is run as well, with the variable `proj_len` controlling how many time periods it is run for.  As Python uses zero-indexing this runs from 0, i.e. `proj_len = 5` will calculate for t = 0, 1, 2, 3, 4.\n",
    "\n",
    "Once the model has run, we can view the results as a dataframe using the `.df` property."
   ]
  },
  {
   "cell_type": "code",
   "execution_count": 3,
   "metadata": {},
   "outputs": [
    {
     "data": {
      "application/vnd.microsoft.datawrangler.viewer.v0+json": {
       "columns": [
        {
         "name": "index",
         "rawType": "int64",
         "type": "integer"
        },
        {
         "name": "t",
         "rawType": "int64",
         "type": "integer"
        },
        {
         "name": "num_alive",
         "rawType": "float64",
         "type": "float"
        }
       ],
       "conversionMethod": "pd.DataFrame",
       "ref": "fdd0586d-249c-4908-95f8-f87073db5c1a",
       "rows": [
        [
         "0",
         "0",
         "1.0"
        ],
        [
         "1",
         "1",
         "0.99"
        ],
        [
         "2",
         "2",
         "0.9801"
        ],
        [
         "3",
         "3",
         "0.9702989999999999"
        ],
        [
         "4",
         "4",
         "0.96059601"
        ]
       ],
       "shape": {
        "columns": 2,
        "rows": 5
       }
      },
      "text/html": [
       "<div>\n",
       "<style scoped>\n",
       "    .dataframe tbody tr th:only-of-type {\n",
       "        vertical-align: middle;\n",
       "    }\n",
       "\n",
       "    .dataframe tbody tr th {\n",
       "        vertical-align: top;\n",
       "    }\n",
       "\n",
       "    .dataframe thead th {\n",
       "        text-align: right;\n",
       "    }\n",
       "</style>\n",
       "<table border=\"1\" class=\"dataframe\">\n",
       "  <thead>\n",
       "    <tr style=\"text-align: right;\">\n",
       "      <th></th>\n",
       "      <th>t</th>\n",
       "      <th>num_alive</th>\n",
       "    </tr>\n",
       "  </thead>\n",
       "  <tbody>\n",
       "    <tr>\n",
       "      <th>0</th>\n",
       "      <td>0</td>\n",
       "      <td>1.000000</td>\n",
       "    </tr>\n",
       "    <tr>\n",
       "      <th>1</th>\n",
       "      <td>1</td>\n",
       "      <td>0.990000</td>\n",
       "    </tr>\n",
       "    <tr>\n",
       "      <th>2</th>\n",
       "      <td>2</td>\n",
       "      <td>0.980100</td>\n",
       "    </tr>\n",
       "    <tr>\n",
       "      <th>3</th>\n",
       "      <td>3</td>\n",
       "      <td>0.970299</td>\n",
       "    </tr>\n",
       "    <tr>\n",
       "      <th>4</th>\n",
       "      <td>4</td>\n",
       "      <td>0.960596</td>\n",
       "    </tr>\n",
       "  </tbody>\n",
       "</table>\n",
       "</div>"
      ],
      "text/plain": [
       "   t  num_alive\n",
       "0  0   1.000000\n",
       "1  1   0.990000\n",
       "2  2   0.980100\n",
       "3  3   0.970299\n",
       "4  4   0.960596"
      ]
     },
     "execution_count": 3,
     "metadata": {},
     "output_type": "execute_result"
    }
   ],
   "source": [
    "model1 = Model1(proj_len = 5)\n",
    "model1.df"
   ]
  },
  {
   "cell_type": "markdown",
   "metadata": {},
   "source": [
    "### Exploring the results, and calculating more values\n",
    "\n",
    "We can see that num alive runs off as expected, 1, 0.99, 0.99^2, 0.99^3...\n",
    "\n",
    "We can view the values for a variable using `.values`:"
   ]
  },
  {
   "cell_type": "code",
   "execution_count": 4,
   "metadata": {},
   "outputs": [
    {
     "data": {
      "text/plain": [
       "[1, 0.99, 0.9801, 0.9702989999999999, 0.96059601]"
      ]
     },
     "execution_count": 4,
     "metadata": {},
     "output_type": "execute_result"
    }
   ],
   "source": [
    "model1.num_alive.values"
   ]
  },
  {
   "cell_type": "markdown",
   "metadata": {},
   "source": [
    "Likewise, we can sum up all of them (in this case it's not too meaningful as we aren't looking at cashflows yet!)"
   ]
  },
  {
   "cell_type": "code",
   "execution_count": 5,
   "metadata": {},
   "outputs": [
    {
     "data": {
      "text/plain": [
       "4.90099501"
      ]
     },
     "execution_count": 5,
     "metadata": {},
     "output_type": "execute_result"
    }
   ],
   "source": [
    "model1.num_alive.sum()"
   ]
  },
  {
   "cell_type": "markdown",
   "metadata": {},
   "source": [
    "We can obtain individual values by calling them with the appropriate parameter (`t` in this case)"
   ]
  },
  {
   "cell_type": "code",
   "execution_count": 6,
   "metadata": {},
   "outputs": [
    {
     "data": {
      "text/plain": [
       "0.96059601"
      ]
     },
     "execution_count": 6,
     "metadata": {},
     "output_type": "execute_result"
    }
   ],
   "source": [
    "model1.num_alive(4)"
   ]
  },
  {
   "cell_type": "markdown",
   "metadata": {},
   "source": [
    "We can view a dataframe just of the variables results.  This isn't that useful when the function is only dependent on t, however if we have functions with multiple keys such as both `t` and `duration`, then we can view all the output."
   ]
  },
  {
   "cell_type": "code",
   "execution_count": 7,
   "metadata": {},
   "outputs": [
    {
     "data": {
      "application/vnd.microsoft.datawrangler.viewer.v0+json": {
       "columns": [
        {
         "name": "index",
         "rawType": "int64",
         "type": "integer"
        },
        {
         "name": "t",
         "rawType": "int64",
         "type": "integer"
        },
        {
         "name": "num_alive",
         "rawType": "float64",
         "type": "float"
        }
       ],
       "conversionMethod": "pd.DataFrame",
       "ref": "205740de-769a-42de-9800-50f8962bc7f8",
       "rows": [
        [
         "0",
         "0",
         "1.0"
        ],
        [
         "1",
         "1",
         "0.99"
        ],
        [
         "2",
         "2",
         "0.9801"
        ],
        [
         "3",
         "3",
         "0.9702989999999999"
        ],
        [
         "4",
         "4",
         "0.96059601"
        ]
       ],
       "shape": {
        "columns": 2,
        "rows": 5
       }
      },
      "text/html": [
       "<div>\n",
       "<style scoped>\n",
       "    .dataframe tbody tr th:only-of-type {\n",
       "        vertical-align: middle;\n",
       "    }\n",
       "\n",
       "    .dataframe tbody tr th {\n",
       "        vertical-align: top;\n",
       "    }\n",
       "\n",
       "    .dataframe thead th {\n",
       "        text-align: right;\n",
       "    }\n",
       "</style>\n",
       "<table border=\"1\" class=\"dataframe\">\n",
       "  <thead>\n",
       "    <tr style=\"text-align: right;\">\n",
       "      <th></th>\n",
       "      <th>t</th>\n",
       "      <th>num_alive</th>\n",
       "    </tr>\n",
       "  </thead>\n",
       "  <tbody>\n",
       "    <tr>\n",
       "      <th>0</th>\n",
       "      <td>0</td>\n",
       "      <td>1.000000</td>\n",
       "    </tr>\n",
       "    <tr>\n",
       "      <th>1</th>\n",
       "      <td>1</td>\n",
       "      <td>0.990000</td>\n",
       "    </tr>\n",
       "    <tr>\n",
       "      <th>2</th>\n",
       "      <td>2</td>\n",
       "      <td>0.980100</td>\n",
       "    </tr>\n",
       "    <tr>\n",
       "      <th>3</th>\n",
       "      <td>3</td>\n",
       "      <td>0.970299</td>\n",
       "    </tr>\n",
       "    <tr>\n",
       "      <th>4</th>\n",
       "      <td>4</td>\n",
       "      <td>0.960596</td>\n",
       "    </tr>\n",
       "  </tbody>\n",
       "</table>\n",
       "</div>"
      ],
      "text/plain": [
       "   t  num_alive\n",
       "0  0   1.000000\n",
       "1  1   0.990000\n",
       "2  2   0.980100\n",
       "3  3   0.970299\n",
       "4  4   0.960596"
      ]
     },
     "execution_count": 7,
     "metadata": {},
     "output_type": "execute_result"
    }
   ],
   "source": [
    "model1.num_alive.df"
   ]
  },
  {
   "cell_type": "markdown",
   "metadata": {},
   "source": [
    "Running the projection to time 4 doesn't mean we can't obtain further values, it just means they aren't precomputed (and in extreme cases you may get a recursion limit or stack overflow error).  We can query any value by calling it."
   ]
  },
  {
   "cell_type": "code",
   "execution_count": 8,
   "metadata": {},
   "outputs": [
    {
     "data": {
      "text/plain": [
       "0.8179069375972307"
      ]
     },
     "execution_count": 8,
     "metadata": {},
     "output_type": "execute_result"
    }
   ],
   "source": [
    "model1.num_alive(20)"
   ]
  },
  {
   "cell_type": "markdown",
   "metadata": {},
   "source": [
    "This computes all the intermediate values - we can check this in the dataframe.\n",
    "\n",
    "Note: the variable `t` hasn't been calculated for t > 4, this is because the value of `t` has never been requested for t > 4, as the `t(t)` method isn't called by `num_alive`."
   ]
  },
  {
   "cell_type": "code",
   "execution_count": 9,
   "metadata": {},
   "outputs": [
    {
     "data": {
      "application/vnd.microsoft.datawrangler.viewer.v0+json": {
       "columns": [
        {
         "name": "index",
         "rawType": "int64",
         "type": "integer"
        },
        {
         "name": "t",
         "rawType": "int64",
         "type": "integer"
        },
        {
         "name": "num_alive",
         "rawType": "float64",
         "type": "float"
        }
       ],
       "conversionMethod": "pd.DataFrame",
       "ref": "1d641c4f-0031-48d1-93cb-f474affdefe9",
       "rows": [
        [
         "0",
         "0",
         "1.0"
        ],
        [
         "1",
         "1",
         "0.99"
        ],
        [
         "2",
         "2",
         "0.9801"
        ],
        [
         "3",
         "3",
         "0.9702989999999999"
        ],
        [
         "4",
         "4",
         "0.96059601"
        ]
       ],
       "shape": {
        "columns": 2,
        "rows": 5
       }
      },
      "text/html": [
       "<div>\n",
       "<style scoped>\n",
       "    .dataframe tbody tr th:only-of-type {\n",
       "        vertical-align: middle;\n",
       "    }\n",
       "\n",
       "    .dataframe tbody tr th {\n",
       "        vertical-align: top;\n",
       "    }\n",
       "\n",
       "    .dataframe thead th {\n",
       "        text-align: right;\n",
       "    }\n",
       "</style>\n",
       "<table border=\"1\" class=\"dataframe\">\n",
       "  <thead>\n",
       "    <tr style=\"text-align: right;\">\n",
       "      <th></th>\n",
       "      <th>t</th>\n",
       "      <th>num_alive</th>\n",
       "    </tr>\n",
       "  </thead>\n",
       "  <tbody>\n",
       "    <tr>\n",
       "      <th>0</th>\n",
       "      <td>0</td>\n",
       "      <td>1.000000</td>\n",
       "    </tr>\n",
       "    <tr>\n",
       "      <th>1</th>\n",
       "      <td>1</td>\n",
       "      <td>0.990000</td>\n",
       "    </tr>\n",
       "    <tr>\n",
       "      <th>2</th>\n",
       "      <td>2</td>\n",
       "      <td>0.980100</td>\n",
       "    </tr>\n",
       "    <tr>\n",
       "      <th>3</th>\n",
       "      <td>3</td>\n",
       "      <td>0.970299</td>\n",
       "    </tr>\n",
       "    <tr>\n",
       "      <th>4</th>\n",
       "      <td>4</td>\n",
       "      <td>0.960596</td>\n",
       "    </tr>\n",
       "  </tbody>\n",
       "</table>\n",
       "</div>"
      ],
      "text/plain": [
       "   t  num_alive\n",
       "0  0   1.000000\n",
       "1  1   0.990000\n",
       "2  2   0.980100\n",
       "3  3   0.970299\n",
       "4  4   0.960596"
      ]
     },
     "execution_count": 9,
     "metadata": {},
     "output_type": "execute_result"
    }
   ],
   "source": [
    "model1.df"
   ]
  },
  {
   "cell_type": "markdown",
   "metadata": {},
   "source": [
    "## Passing data to the model\n",
    "\n",
    "Our model isn't going to be that useful unless we can pass in data, for this model we are interested in the probability of being alive at each valuation point, the probability of dying then, and the expected claim cost arising.  (Sum Assured x Number of Deaths)\n",
    "\n",
    "We'll add in two new methods, `num_deaths` to count the expected deaths occuring, and `age` to calculate the current age.\n",
    "\n",
    "`num_deaths` is dependent on the number alive at the start of the period, and the mortality rate `q_x`: as we've not defined a mortality table we'll fudge this for now as being a linear function of age $q_x(t) = 0.001 (x + t)$\n",
    "\n",
    "For the `age` variable, we want to get this from data at `t = 0` from the field `init_age`.  There are lots of different ways to store and pass in data, for example in a dictionary, using a dataclass, or as individual variables.  For this example we'll use a dictionary, which will be stored in the model as `data`.  We can then query the data field using `self.data[\"init_age]`."
   ]
  },
  {
   "cell_type": "code",
   "execution_count": 10,
   "metadata": {},
   "outputs": [],
   "source": [
    "class Model2(heavylight.Model):\n",
    "    def t(self, t):\n",
    "        \"\"\"time\"\"\"\n",
    "        return t\n",
    "    \n",
    "    def num_alive(self, t):\n",
    "        \"\"\"probability that life is alive at time t, given alive at time 0\"\"\"\n",
    "        if t == 0:\n",
    "            return 1\n",
    "        else:\n",
    "            return self.num_alive(t - 1) - self.num_deaths(t - 1)     # deaths moved to a separate method\n",
    "        \n",
    "    def num_deaths(self, t):\n",
    "        \"\"\"number of deaths occuring between time t-1 and t\"\"\"\n",
    "        if t < 0:\n",
    "            return 0\n",
    "        else:\n",
    "            q_x = 0.001 * self.age(t)\n",
    "            return self.num_alive(t) * q_x\n",
    "\n",
    "    def age(self, t):\n",
    "        \"\"\"age in years at time t\"\"\"\n",
    "        if t == 0:\n",
    "            return self.data[\"init_age\"]\n",
    "        elif t % 12 == 0:\n",
    "            return self.age(t - 1) + 1\n",
    "        else:\n",
    "            return self.age(t - 1)"
   ]
  },
  {
   "cell_type": "markdown",
   "metadata": {},
   "source": [
    "We pass the data in as pass of the model instance creation, using the key `data` means it is accessible as `self.data` within the model, in our case `self.data['init_age']` will  look up init_age in the dictionary and return `32`."
   ]
  },
  {
   "cell_type": "code",
   "execution_count": 11,
   "metadata": {},
   "outputs": [
    {
     "data": {
      "application/vnd.microsoft.datawrangler.viewer.v0+json": {
       "columns": [
        {
         "name": "index",
         "rawType": "int64",
         "type": "integer"
        },
        {
         "name": "t",
         "rawType": "int64",
         "type": "integer"
        },
        {
         "name": "num_alive",
         "rawType": "float64",
         "type": "float"
        },
        {
         "name": "num_deaths",
         "rawType": "float64",
         "type": "float"
        },
        {
         "name": "age",
         "rawType": "int64",
         "type": "integer"
        }
       ],
       "conversionMethod": "pd.DataFrame",
       "ref": "b8d5d038-d48c-48a2-8d4d-619a7f73925d",
       "rows": [
        [
         "0",
         "0",
         "1.0",
         "0.032",
         "32"
        ],
        [
         "1",
         "1",
         "0.968",
         "0.030976",
         "32"
        ],
        [
         "2",
         "2",
         "0.937024",
         "0.029984768",
         "32"
        ],
        [
         "3",
         "3",
         "0.9070392319999999",
         "0.029025255423999998",
         "32"
        ],
        [
         "4",
         "4",
         "0.8780139765759999",
         "0.028096447250431998",
         "32"
        ],
        [
         "5",
         "5",
         "0.8499175293255679",
         "0.027197360938418173",
         "32"
        ],
        [
         "6",
         "6",
         "0.8227201683871497",
         "0.02632704538838879",
         "32"
        ],
        [
         "7",
         "7",
         "0.7963931229987609",
         "0.025484579935960348",
         "32"
        ],
        [
         "8",
         "8",
         "0.7709085430628005",
         "0.024669073378009616",
         "32"
        ],
        [
         "9",
         "9",
         "0.7462394696847909",
         "0.02387966302991331",
         "32"
        ],
        [
         "10",
         "10",
         "0.7223598066548776",
         "0.023115513812956085",
         "32"
        ],
        [
         "11",
         "11",
         "0.6992442928419216",
         "0.022375817370941492",
         "32"
        ],
        [
         "12",
         "12",
         "0.6768684754709801",
         "0.022336659690542344",
         "33"
        ],
        [
         "13",
         "13",
         "0.6545318157804377",
         "0.021599549920754448",
         "33"
        ],
        [
         "14",
         "14",
         "0.6329322658596833",
         "0.02088676477336955",
         "33"
        ],
        [
         "15",
         "15",
         "0.6120455010863137",
         "0.020197501535848355",
         "33"
        ],
        [
         "16",
         "16",
         "0.5918479995504654",
         "0.01953098398516536",
         "33"
        ],
        [
         "17",
         "17",
         "0.5723170155653",
         "0.0188864615136549",
         "33"
        ],
        [
         "18",
         "18",
         "0.5534305540516451",
         "0.01826320828370429",
         "33"
        ],
        [
         "19",
         "19",
         "0.5351673457679408",
         "0.017660522410342046",
         "33"
        ],
        [
         "20",
         "20",
         "0.5175068233575988",
         "0.01707772517080076",
         "33"
        ],
        [
         "21",
         "21",
         "0.500429098186798",
         "0.016514160240164336",
         "33"
        ],
        [
         "22",
         "22",
         "0.4839149379466337",
         "0.015969192952238913",
         "33"
        ],
        [
         "23",
         "23",
         "0.4679457449943948",
         "0.015442209584815028",
         "33"
        ],
        [
         "24",
         "24",
         "0.45250353540957977",
         "0.015385120203925714",
         "34"
        ],
        [
         "25",
         "25",
         "0.43711841520565403",
         "0.014862026116992237",
         "34"
        ],
        [
         "26",
         "26",
         "0.4222563890886618",
         "0.014356717229014503",
         "34"
        ],
        [
         "27",
         "27",
         "0.4078996718596473",
         "0.01386858884322801",
         "34"
        ],
        [
         "28",
         "28",
         "0.3940310830164193",
         "0.013397056822558257",
         "34"
        ],
        [
         "29",
         "29",
         "0.38063402619386105",
         "0.012941556890591276",
         "34"
        ],
        [
         "30",
         "30",
         "0.36769246930326976",
         "0.012501543956311173",
         "34"
        ],
        [
         "31",
         "31",
         "0.3551909253469586",
         "0.012076491461796594",
         "34"
        ],
        [
         "32",
         "32",
         "0.34311443388516205",
         "0.01166589075209551",
         "34"
        ],
        [
         "33",
         "33",
         "0.33144854313306654",
         "0.011269250466524263",
         "34"
        ],
        [
         "34",
         "34",
         "0.32017929266654227",
         "0.010886095950662438",
         "34"
        ],
        [
         "35",
         "35",
         "0.30929319671587985",
         "0.010515968688339915",
         "34"
        ],
        [
         "36",
         "36",
         "0.2987772280275399",
         "0.010457202980963897",
         "35"
        ],
        [
         "37",
         "37",
         "0.288320025046576",
         "0.01009120087663016",
         "35"
        ],
        [
         "38",
         "38",
         "0.2782288241699458",
         "0.009738008845948104",
         "35"
        ],
        [
         "39",
         "39",
         "0.2684908153239977",
         "0.009397178536339921",
         "35"
        ],
        [
         "40",
         "40",
         "0.2590936367876578",
         "0.009068277287568023",
         "35"
        ],
        [
         "41",
         "41",
         "0.25002535950008975",
         "0.008750887582503142",
         "35"
        ],
        [
         "42",
         "42",
         "0.2412744719175866",
         "0.008444606517115531",
         "35"
        ],
        [
         "43",
         "43",
         "0.23282986540047107",
         "0.008149045289016488",
         "35"
        ],
        [
         "44",
         "44",
         "0.22468082011145457",
         "0.007863828703900911",
         "35"
        ],
        [
         "45",
         "45",
         "0.21681699140755367",
         "0.00758859469926438",
         "35"
        ],
        [
         "46",
         "46",
         "0.2092283967082893",
         "0.0073229938847901264",
         "35"
        ],
        [
         "47",
         "47",
         "0.20190540282349917",
         "0.007066689098822471",
         "35"
        ],
        [
         "48",
         "48",
         "0.1948387137246767",
         "0.0070141936940883625",
         "36"
        ],
        [
         "49",
         "49",
         "0.18782452003058833",
         "0.006761682721101181",
         "36"
        ]
       ],
       "shape": {
        "columns": 4,
        "rows": 121
       }
      },
      "text/html": [
       "<div>\n",
       "<style scoped>\n",
       "    .dataframe tbody tr th:only-of-type {\n",
       "        vertical-align: middle;\n",
       "    }\n",
       "\n",
       "    .dataframe tbody tr th {\n",
       "        vertical-align: top;\n",
       "    }\n",
       "\n",
       "    .dataframe thead th {\n",
       "        text-align: right;\n",
       "    }\n",
       "</style>\n",
       "<table border=\"1\" class=\"dataframe\">\n",
       "  <thead>\n",
       "    <tr style=\"text-align: right;\">\n",
       "      <th></th>\n",
       "      <th>t</th>\n",
       "      <th>num_alive</th>\n",
       "      <th>num_deaths</th>\n",
       "      <th>age</th>\n",
       "    </tr>\n",
       "  </thead>\n",
       "  <tbody>\n",
       "    <tr>\n",
       "      <th>0</th>\n",
       "      <td>0</td>\n",
       "      <td>1.000000</td>\n",
       "      <td>0.032000</td>\n",
       "      <td>32</td>\n",
       "    </tr>\n",
       "    <tr>\n",
       "      <th>1</th>\n",
       "      <td>1</td>\n",
       "      <td>0.968000</td>\n",
       "      <td>0.030976</td>\n",
       "      <td>32</td>\n",
       "    </tr>\n",
       "    <tr>\n",
       "      <th>2</th>\n",
       "      <td>2</td>\n",
       "      <td>0.937024</td>\n",
       "      <td>0.029985</td>\n",
       "      <td>32</td>\n",
       "    </tr>\n",
       "    <tr>\n",
       "      <th>3</th>\n",
       "      <td>3</td>\n",
       "      <td>0.907039</td>\n",
       "      <td>0.029025</td>\n",
       "      <td>32</td>\n",
       "    </tr>\n",
       "    <tr>\n",
       "      <th>4</th>\n",
       "      <td>4</td>\n",
       "      <td>0.878014</td>\n",
       "      <td>0.028096</td>\n",
       "      <td>32</td>\n",
       "    </tr>\n",
       "    <tr>\n",
       "      <th>...</th>\n",
       "      <td>...</td>\n",
       "      <td>...</td>\n",
       "      <td>...</td>\n",
       "      <td>...</td>\n",
       "    </tr>\n",
       "    <tr>\n",
       "      <th>116</th>\n",
       "      <td>116</td>\n",
       "      <td>0.013636</td>\n",
       "      <td>0.000559</td>\n",
       "      <td>41</td>\n",
       "    </tr>\n",
       "    <tr>\n",
       "      <th>117</th>\n",
       "      <td>117</td>\n",
       "      <td>0.013077</td>\n",
       "      <td>0.000536</td>\n",
       "      <td>41</td>\n",
       "    </tr>\n",
       "    <tr>\n",
       "      <th>118</th>\n",
       "      <td>118</td>\n",
       "      <td>0.012541</td>\n",
       "      <td>0.000514</td>\n",
       "      <td>41</td>\n",
       "    </tr>\n",
       "    <tr>\n",
       "      <th>119</th>\n",
       "      <td>119</td>\n",
       "      <td>0.012027</td>\n",
       "      <td>0.000493</td>\n",
       "      <td>41</td>\n",
       "    </tr>\n",
       "    <tr>\n",
       "      <th>120</th>\n",
       "      <td>120</td>\n",
       "      <td>0.011534</td>\n",
       "      <td>0.000484</td>\n",
       "      <td>42</td>\n",
       "    </tr>\n",
       "  </tbody>\n",
       "</table>\n",
       "<p>121 rows × 4 columns</p>\n",
       "</div>"
      ],
      "text/plain": [
       "       t  num_alive  num_deaths  age\n",
       "0      0   1.000000    0.032000   32\n",
       "1      1   0.968000    0.030976   32\n",
       "2      2   0.937024    0.029985   32\n",
       "3      3   0.907039    0.029025   32\n",
       "4      4   0.878014    0.028096   32\n",
       "..   ...        ...         ...  ...\n",
       "116  116   0.013636    0.000559   41\n",
       "117  117   0.013077    0.000536   41\n",
       "118  118   0.012541    0.000514   41\n",
       "119  119   0.012027    0.000493   41\n",
       "120  120   0.011534    0.000484   42\n",
       "\n",
       "[121 rows x 4 columns]"
      ]
     },
     "execution_count": 11,
     "metadata": {},
     "output_type": "execute_result"
    }
   ],
   "source": [
    "data2 = dict(init_age = 32)\n",
    "model2 = Model2(data=data2, proj_len=10*12 + 1)\n",
    "model2.df"
   ]
  },
  {
   "cell_type": "markdown",
   "metadata": {},
   "source": [
    "We've got more data here to look at now, as `.df` outputs a pandas dataframe, we can access all the normal dataframe features, for example `.plot()` gives us access to the plotting interface."
   ]
  },
  {
   "cell_type": "code",
   "execution_count": 12,
   "metadata": {},
   "outputs": [
    {
     "data": {
      "image/png": "[encoded data removed]",
      "text/plain": [
       "<Figure size 640x480 with 1 Axes>"
      ]
     },
     "metadata": {},
     "output_type": "display_data"
    }
   ],
   "source": [
    "model2.df.plot(x='t', y='num_alive');"
   ]
  },
  {
   "cell_type": "markdown",
   "metadata": {},
   "source": [
    "## Adding a table to store structured assumptions\n",
    "\n",
    "Heavylight comes with the `Table` class which is optional, and provides a high performance table capable of handling most actuarial tables, and loading in data from pandas dataframes, Excel, and CSV formats.  See the main Tables documentation for the latest details.\n",
    "\n",
    "Here we will create a mortality table, rather than loading it it, although in practice most tables will be pre-computed.\n",
    "\n",
    "We start by creating a dataframe, with ages running from 16 to 130.  The `Table` class needs to know what type the key is, in this case we are using integers, and we want to ensure that the lookup doesn't go past the lower and upper values (so any values under 16 or over 130 will look up 16 or 130 respectively), so we are specifing type `int_bound`.   The overall key is therefore `age|int_bound`."
   ]
  },
  {
   "cell_type": "code",
   "execution_count": 13,
   "metadata": {},
   "outputs": [
    {
     "data": {
      "application/vnd.microsoft.datawrangler.viewer.v0+json": {
       "columns": [
        {
         "name": "index",
         "rawType": "int64",
         "type": "integer"
        },
        {
         "name": "age|int_bound",
         "rawType": "int64",
         "type": "integer"
        }
       ],
       "conversionMethod": "pd.DataFrame",
       "ref": "d643c9f8-29ad-4917-bc9f-8d88ffe1e1bf",
       "rows": [
        [
         "0",
         "16"
        ],
        [
         "1",
         "17"
        ],
        [
         "2",
         "18"
        ],
        [
         "3",
         "19"
        ],
        [
         "4",
         "20"
        ],
        [
         "5",
         "21"
        ],
        [
         "6",
         "22"
        ],
        [
         "7",
         "23"
        ],
        [
         "8",
         "24"
        ],
        [
         "9",
         "25"
        ],
        [
         "10",
         "26"
        ],
        [
         "11",
         "27"
        ],
        [
         "12",
         "28"
        ],
        [
         "13",
         "29"
        ],
        [
         "14",
         "30"
        ],
        [
         "15",
         "31"
        ],
        [
         "16",
         "32"
        ],
        [
         "17",
         "33"
        ],
        [
         "18",
         "34"
        ],
        [
         "19",
         "35"
        ],
        [
         "20",
         "36"
        ],
        [
         "21",
         "37"
        ],
        [
         "22",
         "38"
        ],
        [
         "23",
         "39"
        ],
        [
         "24",
         "40"
        ],
        [
         "25",
         "41"
        ],
        [
         "26",
         "42"
        ],
        [
         "27",
         "43"
        ],
        [
         "28",
         "44"
        ],
        [
         "29",
         "45"
        ],
        [
         "30",
         "46"
        ],
        [
         "31",
         "47"
        ],
        [
         "32",
         "48"
        ],
        [
         "33",
         "49"
        ],
        [
         "34",
         "50"
        ],
        [
         "35",
         "51"
        ],
        [
         "36",
         "52"
        ],
        [
         "37",
         "53"
        ],
        [
         "38",
         "54"
        ],
        [
         "39",
         "55"
        ],
        [
         "40",
         "56"
        ],
        [
         "41",
         "57"
        ],
        [
         "42",
         "58"
        ],
        [
         "43",
         "59"
        ],
        [
         "44",
         "60"
        ],
        [
         "45",
         "61"
        ],
        [
         "46",
         "62"
        ],
        [
         "47",
         "63"
        ],
        [
         "48",
         "64"
        ],
        [
         "49",
         "65"
        ]
       ],
       "shape": {
        "columns": 1,
        "rows": 115
       }
      },
      "text/html": [
       "<div>\n",
       "<style scoped>\n",
       "    .dataframe tbody tr th:only-of-type {\n",
       "        vertical-align: middle;\n",
       "    }\n",
       "\n",
       "    .dataframe tbody tr th {\n",
       "        vertical-align: top;\n",
       "    }\n",
       "\n",
       "    .dataframe thead th {\n",
       "        text-align: right;\n",
       "    }\n",
       "</style>\n",
       "<table border=\"1\" class=\"dataframe\">\n",
       "  <thead>\n",
       "    <tr style=\"text-align: right;\">\n",
       "      <th></th>\n",
       "      <th>age|int_bound</th>\n",
       "    </tr>\n",
       "  </thead>\n",
       "  <tbody>\n",
       "    <tr>\n",
       "      <th>0</th>\n",
       "      <td>16</td>\n",
       "    </tr>\n",
       "    <tr>\n",
       "      <th>1</th>\n",
       "      <td>17</td>\n",
       "    </tr>\n",
       "    <tr>\n",
       "      <th>2</th>\n",
       "      <td>18</td>\n",
       "    </tr>\n",
       "    <tr>\n",
       "      <th>3</th>\n",
       "      <td>19</td>\n",
       "    </tr>\n",
       "    <tr>\n",
       "      <th>4</th>\n",
       "      <td>20</td>\n",
       "    </tr>\n",
       "    <tr>\n",
       "      <th>...</th>\n",
       "      <td>...</td>\n",
       "    </tr>\n",
       "    <tr>\n",
       "      <th>110</th>\n",
       "      <td>126</td>\n",
       "    </tr>\n",
       "    <tr>\n",
       "      <th>111</th>\n",
       "      <td>127</td>\n",
       "    </tr>\n",
       "    <tr>\n",
       "      <th>112</th>\n",
       "      <td>128</td>\n",
       "    </tr>\n",
       "    <tr>\n",
       "      <th>113</th>\n",
       "      <td>129</td>\n",
       "    </tr>\n",
       "    <tr>\n",
       "      <th>114</th>\n",
       "      <td>130</td>\n",
       "    </tr>\n",
       "  </tbody>\n",
       "</table>\n",
       "<p>115 rows × 1 columns</p>\n",
       "</div>"
      ],
      "text/plain": [
       "     age|int_bound\n",
       "0               16\n",
       "1               17\n",
       "2               18\n",
       "3               19\n",
       "4               20\n",
       "..             ...\n",
       "110            126\n",
       "111            127\n",
       "112            128\n",
       "113            129\n",
       "114            130\n",
       "\n",
       "[115 rows x 1 columns]"
      ]
     },
     "execution_count": 13,
     "metadata": {},
     "output_type": "execute_result"
    }
   ],
   "source": [
    "df_mort = pd.DataFrame(\n",
    "    {'age|int_bound': range(16, 131)}\n",
    ")\n",
    "df_mort"
   ]
  },
  {
   "cell_type": "markdown",
   "metadata": {},
   "source": [
    "Our table also need values (mortality rates).  Mortality rates are generally exponential, so we'll populate `q_x` using an exponential function - this has just been picked for ease of use:\n",
    "\n",
    "$q_x = 0.002e^{0.064(x-30)} + 0.001$\n",
    "\n",
    "We also use `np.clip` to ensure this falls in the range $[0, 1]$ as it is a probability."
   ]
  },
  {
   "cell_type": "code",
   "execution_count": 14,
   "metadata": {},
   "outputs": [
    {
     "data": {
      "application/vnd.microsoft.datawrangler.viewer.v0+json": {
       "columns": [
        {
         "name": "index",
         "rawType": "int64",
         "type": "integer"
        },
        {
         "name": "age|int_bound",
         "rawType": "int64",
         "type": "integer"
        },
        {
         "name": "q_x|float",
         "rawType": "float64",
         "type": "float"
        }
       ],
       "conversionMethod": "pd.DataFrame",
       "ref": "24a22ba3-854f-4882-86d0-af9a2704eaf1",
       "rows": [
        [
         "0",
         "16",
         "0.0018163983905558454"
        ],
        [
         "1",
         "17",
         "0.0018703561185327133"
        ],
        [
         "2",
         "18",
         "0.0019278800421832936"
        ],
        [
         "3",
         "19",
         "0.0019892058599341143"
        ],
        [
         "4",
         "20",
         "0.002054584848086097"
        ],
        [
         "5",
         "21",
         "0.002124284890393645"
        ],
        [
         "6",
         "22",
         "0.002198591575691077"
        ],
        [
         "7",
         "23",
         "0.0022778093680638324"
        ],
        [
         "8",
         "24",
         "0.0023622628543590943"
        ],
        [
         "9",
         "25",
         "0.002452298074147382"
        ],
        [
         "10",
         "26",
         "0.0025482839375844967"
        ],
        [
         "11",
         "27",
         "0.0026506137369833645"
        ],
        [
         "12",
         "28",
         "0.002759706758289288"
        ],
        [
         "13",
         "29",
         "0.002876009999061459"
        ],
        [
         "14",
         "30",
         "0.003"
        ],
        [
         "15",
         "31",
         "0.0031321847975230104"
        ],
        [
         "16",
         "32",
         "0.0032731060053941205"
        ],
        [
         "17",
         "33",
         "0.003423341033929801"
        ],
        [
         "18",
         "34",
         "0.0035835054558794083"
        ],
        [
         "19",
         "35",
         "0.0037542555286719146"
        ],
        [
         "20",
         "36",
         "0.0039362908833639795"
        ],
        [
         "21",
         "37",
         "0.0041303573913070435"
        ],
        [
         "22",
         "38",
         "0.004337250220279334"
        ],
        [
         "23",
         "39",
         "0.004557817092604957"
        ],
        [
         "24",
         "40",
         "0.004792961758609902"
        ],
        [
         "25",
         "41",
         "0.005043647699647089"
        ],
        [
         "26",
         "42",
         "0.005310902075863208"
        ],
        [
         "27",
         "43",
         "0.005595819934882959"
        ],
        [
         "28",
         "44",
         "0.005899568698655319"
        ],
        [
         "29",
         "45",
         "0.006223392946846235"
        ],
        [
         "30",
         "46",
         "0.006568619516377231"
        ],
        [
         "31",
         "47",
         "0.006936662938004735"
        ],
        [
         "32",
         "48",
         "0.0073290312322159944"
        ],
        [
         "33",
         "49",
         "0.0077473320881896336"
        ],
        [
         "34",
         "50",
         "0.008193279451138563"
        ],
        [
         "35",
         "51",
         "0.008668700545026154"
        ],
        [
         "36",
         "52",
         "0.009175543359430594"
        ],
        [
         "37",
         "53",
         "0.009715884631234059"
        ],
        [
         "38",
         "54",
         "0.010291938353840856"
        ],
        [
         "39",
         "55",
         "0.010906064848790229"
        ],
        [
         "40",
         "56",
         "0.011560780436933805"
        ],
        [
         "41",
         "57",
         "0.012258767748804338"
        ],
        [
         "42",
         "58",
         "0.013002886716421486"
        ],
        [
         "43",
         "59",
         "0.013796186291572393"
        ],
        [
         "44",
         "60",
         "0.014641916938581499"
        ],
        [
         "45",
         "61",
         "0.01554354395275756"
        ],
        [
         "46",
         "62",
         "0.016504761659088693"
        ],
        [
         "47",
         "63",
         "0.017529508549363283"
        ],
        [
         "48",
         "64",
         "0.018621983419739512"
        ],
        [
         "49",
         "65",
         "0.01978666257488557"
        ]
       ],
       "shape": {
        "columns": 2,
        "rows": 115
       }
      },
      "text/html": [
       "<div>\n",
       "<style scoped>\n",
       "    .dataframe tbody tr th:only-of-type {\n",
       "        vertical-align: middle;\n",
       "    }\n",
       "\n",
       "    .dataframe tbody tr th {\n",
       "        vertical-align: top;\n",
       "    }\n",
       "\n",
       "    .dataframe thead th {\n",
       "        text-align: right;\n",
       "    }\n",
       "</style>\n",
       "<table border=\"1\" class=\"dataframe\">\n",
       "  <thead>\n",
       "    <tr style=\"text-align: right;\">\n",
       "      <th></th>\n",
       "      <th>age|int_bound</th>\n",
       "      <th>q_x|float</th>\n",
       "    </tr>\n",
       "  </thead>\n",
       "  <tbody>\n",
       "    <tr>\n",
       "      <th>0</th>\n",
       "      <td>16</td>\n",
       "      <td>0.001816</td>\n",
       "    </tr>\n",
       "    <tr>\n",
       "      <th>1</th>\n",
       "      <td>17</td>\n",
       "      <td>0.001870</td>\n",
       "    </tr>\n",
       "    <tr>\n",
       "      <th>2</th>\n",
       "      <td>18</td>\n",
       "      <td>0.001928</td>\n",
       "    </tr>\n",
       "    <tr>\n",
       "      <th>3</th>\n",
       "      <td>19</td>\n",
       "      <td>0.001989</td>\n",
       "    </tr>\n",
       "    <tr>\n",
       "      <th>4</th>\n",
       "      <td>20</td>\n",
       "      <td>0.002055</td>\n",
       "    </tr>\n",
       "    <tr>\n",
       "      <th>...</th>\n",
       "      <td>...</td>\n",
       "      <td>...</td>\n",
       "    </tr>\n",
       "    <tr>\n",
       "      <th>110</th>\n",
       "      <td>126</td>\n",
       "      <td>0.932827</td>\n",
       "    </tr>\n",
       "    <tr>\n",
       "      <th>111</th>\n",
       "      <td>127</td>\n",
       "      <td>0.994414</td>\n",
       "    </tr>\n",
       "    <tr>\n",
       "      <th>112</th>\n",
       "      <td>128</td>\n",
       "      <td>1.000000</td>\n",
       "    </tr>\n",
       "    <tr>\n",
       "      <th>113</th>\n",
       "      <td>129</td>\n",
       "      <td>1.000000</td>\n",
       "    </tr>\n",
       "    <tr>\n",
       "      <th>114</th>\n",
       "      <td>130</td>\n",
       "      <td>1.000000</td>\n",
       "    </tr>\n",
       "  </tbody>\n",
       "</table>\n",
       "<p>115 rows × 2 columns</p>\n",
       "</div>"
      ],
      "text/plain": [
       "     age|int_bound  q_x|float\n",
       "0               16   0.001816\n",
       "1               17   0.001870\n",
       "2               18   0.001928\n",
       "3               19   0.001989\n",
       "4               20   0.002055\n",
       "..             ...        ...\n",
       "110            126   0.932827\n",
       "111            127   0.994414\n",
       "112            128   1.000000\n",
       "113            129   1.000000\n",
       "114            130   1.000000\n",
       "\n",
       "[115 rows x 2 columns]"
      ]
     },
     "execution_count": 14,
     "metadata": {},
     "output_type": "execute_result"
    }
   ],
   "source": [
    "# 0.02*2.64**(0.04 * (t + 30)) + 0.002\n",
    "df_mort['q_x|float'] = 0.002 * np.exp(0.064 * (df_mort['age|int_bound'] - 30)) + 0.001\n",
    "df_mort['q_x|float'] = np.clip(df_mort['q_x|float'], 0, 1) # ensure between 0 and 1\n",
    "df_mort"
   ]
  },
  {
   "cell_type": "markdown",
   "metadata": {},
   "source": [
    "Let's check how that looks with a plot:"
   ]
  },
  {
   "cell_type": "code",
   "execution_count": 15,
   "metadata": {},
   "outputs": [
    {
     "data": {
      "image/png": "[encoded data removed]",
      "text/plain": [
       "<Figure size 640x480 with 1 Axes>"
      ]
     },
     "metadata": {},
     "output_type": "display_data"
    }
   ],
   "source": [
    "df_mort.plot(x='age|int_bound', y='q_x|float');"
   ]
  },
  {
   "cell_type": "markdown",
   "metadata": {},
   "source": [
    "This looks fine, so we can create a heavylight `Table` instance using it."
   ]
  },
  {
   "cell_type": "code",
   "execution_count": 16,
   "metadata": {},
   "outputs": [],
   "source": [
    "mort_table = heavylight.Table(df_mort)"
   ]
  },
  {
   "cell_type": "markdown",
   "metadata": {},
   "source": [
    "Tables are looked up based on keys, using the square brackets `[]`, so to get the rate for age 110:"
   ]
  },
  {
   "cell_type": "code",
   "execution_count": 17,
   "metadata": {},
   "outputs": [
    {
     "data": {
      "text/plain": [
       "0.3356707392422082"
      ]
     },
     "execution_count": 17,
     "metadata": {},
     "output_type": "execute_result"
    }
   ],
   "source": [
    "mort_table[110]"
   ]
  },
  {
   "cell_type": "markdown",
   "metadata": {},
   "source": [
    "## Incorporating the mortality table into the model\n",
    "\n",
    "We could now create a basis dictionary (much like the data dictionary), however for this case we'll use a small class for the basis.  This will give us the option to use `.item` notation rather than dictionary item lookups `['item']`.  Either approach works.\n",
    "\n",
    "At the same time as adding the mortality table, let's at a flat discount rate, and precompute the monthly equivalent rate.  Note that power in python is accomplished with the `**` operator, e.g. if we wrote `=2^3` in Excel, the python equivalent would be `2**3`.\n",
    "\n",
    "Python operators are listed here: https://docs.python.org/3/library/operator.html#mapping-operators-to-functions"
   ]
  },
  {
   "cell_type": "code",
   "execution_count": 18,
   "metadata": {},
   "outputs": [],
   "source": [
    "class Basis:\n",
    "    def __init__(self, mort_table, disc_rate_pa):\n",
    "        self.mort_table = mort_table\n",
    "        self.disc_rate_pa = disc_rate_pa\n",
    "        self.disc_rate_pm = (1 + disc_rate_pa) ** (1/12) - 1"
   ]
  },
  {
   "cell_type": "markdown",
   "metadata": {},
   "source": [
    "We can create a class instance with our specific values, passing in the mortality table (`mort_table`) and a flat discount rate of 4% per annum"
   ]
  },
  {
   "cell_type": "code",
   "execution_count": 19,
   "metadata": {},
   "outputs": [
    {
     "data": {
      "text/plain": [
       "0.6356966578357008"
      ]
     },
     "execution_count": 19,
     "metadata": {},
     "output_type": "execute_result"
    }
   ],
   "source": [
    "basis3 = Basis(mort_table=mort_table, disc_rate_pa = 0.04)\n",
    "basis3.mort_table[120]"
   ]
  },
  {
   "cell_type": "markdown",
   "metadata": {},
   "source": [
    "Doing a quick check that the monthly discount rate is calculated:"
   ]
  },
  {
   "cell_type": "code",
   "execution_count": 20,
   "metadata": {},
   "outputs": [
    {
     "data": {
      "text/plain": [
       "0.0032737397821989145"
      ]
     },
     "execution_count": 20,
     "metadata": {},
     "output_type": "execute_result"
    }
   ],
   "source": [
    "basis3.disc_rate_pm"
   ]
  },
  {
   "cell_type": "markdown",
   "metadata": {},
   "source": [
    "Updating the model to look up the mortality table, the key change is the addition of `q_x` which looks up `self.basis.mort_table`."
   ]
  },
  {
   "cell_type": "code",
   "execution_count": 21,
   "metadata": {},
   "outputs": [],
   "source": [
    "class Model3(heavylight.Model):\n",
    "    def t(self, t):\n",
    "        \"\"\"time\"\"\"\n",
    "        return t\n",
    "    \n",
    "    def num_alive(self, t):\n",
    "        \"\"\"probability that life is alive at time t, given alive at time 0\"\"\"\n",
    "        if t == 0:\n",
    "            return 1\n",
    "        else:\n",
    "            return self.num_alive(t - 1) - self.num_deaths(t - 1)     # deaths moved to a separate method\n",
    "        \n",
    "    def num_deaths(self, t):\n",
    "        \"\"\"number of deaths occuring between time t-1 and t\"\"\"\n",
    "        if t < 0:\n",
    "            return 0\n",
    "        else:\n",
    "            return self.num_alive(t) * self.q_x(t)\n",
    "\n",
    "    def q_x(self, t):\n",
    "        return self.basis.mort_table[self.age(t)] / 12   # somewhat crude to get monthly mortality\n",
    "\n",
    "    def age(self, t):\n",
    "        \"\"\"age in years at time t\"\"\"\n",
    "        if t == 0:\n",
    "            return self.data[\"init_age\"]\n",
    "        elif t % 12 == 0:\n",
    "            return self.age(t - 1) + 1\n",
    "        else:\n",
    "            return self.age(t - 1)"
   ]
  },
  {
   "cell_type": "markdown",
   "metadata": {},
   "source": [
    "Running this - picking a longer projection and an older age so we have higher q_x values:"
   ]
  },
  {
   "cell_type": "code",
   "execution_count": 22,
   "metadata": {},
   "outputs": [
    {
     "data": {
      "application/vnd.microsoft.datawrangler.viewer.v0+json": {
       "columns": [
        {
         "name": "index",
         "rawType": "int64",
         "type": "integer"
        },
        {
         "name": "t",
         "rawType": "int64",
         "type": "integer"
        },
        {
         "name": "num_alive",
         "rawType": "float64",
         "type": "float"
        },
        {
         "name": "num_deaths",
         "rawType": "float64",
         "type": "float"
        },
        {
         "name": "q_x",
         "rawType": "float64",
         "type": "float"
        },
        {
         "name": "age",
         "rawType": "int64",
         "type": "integer"
        }
       ],
       "conversionMethod": "pd.DataFrame",
       "ref": "ed34bede-f109-48b4-a683-22da587da56b",
       "rows": [
        [
         "0",
         "0",
         "1.0",
         "0.0016488885479071307",
         "0.0016488885479071307",
         "65"
        ],
        [
         "1",
         "1",
         "0.9983511114520929",
         "0.0016461697144637116",
         "0.0016488885479071307",
         "65"
        ],
        [
         "2",
         "2",
         "0.9967049417376291",
         "0.0016434553640736207",
         "0.0016488885479071307",
         "65"
        ],
        [
         "3",
         "3",
         "0.9950614863735555",
         "0.001640745489344803",
         "0.0016488885479071307",
         "65"
        ],
        [
         "4",
         "4",
         "0.9934207408842107",
         "0.0016380400828973922",
         "0.0016488885479071307",
         "65"
        ],
        [
         "5",
         "5",
         "0.9917827008013134",
         "0.0016353391373636898",
         "0.0016488885479071307",
         "65"
        ],
        [
         "6",
         "6",
         "0.9901473616639497",
         "0.0016326426453881467",
         "0.0016488885479071307",
         "65"
        ],
        [
         "7",
         "7",
         "0.9885147190185616",
         "0.0016299505996273413",
         "0.0016488885479071307",
         "65"
        ],
        [
         "8",
         "8",
         "0.9868847684189342",
         "0.0016272629927499614",
         "0.0016488885479071307",
         "65"
        ],
        [
         "9",
         "9",
         "0.9852575054261843",
         "0.0016245798174367829",
         "0.0016488885479071307",
         "65"
        ],
        [
         "10",
         "10",
         "0.9836329256087475",
         "0.0016219010663806504",
         "0.0016488885479071307",
         "65"
        ],
        [
         "11",
         "11",
         "0.9820110245423669",
         "0.001619226732286457",
         "0.0016488885479071307",
         "65"
        ],
        [
         "12",
         "12",
         "0.9803917978100805",
         "0.0017179992212339552",
         "0.0017523598474318963",
         "66"
        ],
        [
         "13",
         "13",
         "0.9786737985888465",
         "0.0017149886683807455",
         "0.0017523598474318963",
         "66"
        ],
        [
         "14",
         "14",
         "0.9769588099204658",
         "0.0017119833910994745",
         "0.0017523598474318963",
         "66"
        ],
        [
         "15",
         "15",
         "0.9752468265293663",
         "0.0017089833801454415",
         "0.0017523598474318963",
         "66"
        ],
        [
         "16",
         "16",
         "0.9735378431492209",
         "0.0017059886262901461",
         "0.0017523598474318963",
         "66"
        ],
        [
         "17",
         "17",
         "0.9718318545229307",
         "0.0017029991203212599",
         "0.0017523598474318963",
         "66"
        ],
        [
         "18",
         "18",
         "0.9701288554026095",
         "0.001700014853042597",
         "0.0017523598474318963",
         "66"
        ],
        [
         "19",
         "19",
         "0.9684288405495669",
         "0.0016970358152740873",
         "0.0017523598474318963",
         "66"
        ],
        [
         "20",
         "20",
         "0.9667318047342928",
         "0.0016940619978517472",
         "0.0017523598474318963",
         "66"
        ],
        [
         "21",
         "21",
         "0.965037742736441",
         "0.0016910933916276514",
         "0.0017523598474318963",
         "66"
        ],
        [
         "22",
         "22",
         "0.9633466493448134",
         "0.0016881299874699058",
         "0.0017523598474318963",
         "66"
        ],
        [
         "23",
         "23",
         "0.9616585193573435",
         "0.0016851717762626178",
         "0.0017523598474318963",
         "66"
        ],
        [
         "24",
         "24",
         "0.9599733475810809",
         "0.0017881133761552404",
         "0.0018626698133452227",
         "67"
        ],
        [
         "25",
         "25",
         "0.9581852342049256",
         "0.0017847827113466374",
         "0.0018626698133452227",
         "67"
        ],
        [
         "26",
         "26",
         "0.956400451493579",
         "0.0017814582504668316",
         "0.0018626698133452227",
         "67"
        ],
        [
         "27",
         "27",
         "0.9546189932431122",
         "0.0017781399819599521",
         "0.0018626698133452227",
         "67"
        ],
        [
         "28",
         "28",
         "0.9528408532611522",
         "0.0017748278942916532",
         "0.0018626698133452227",
         "67"
        ],
        [
         "29",
         "29",
         "0.9510660253668606",
         "0.0017715219759490732",
         "0.0018626698133452227",
         "67"
        ],
        [
         "30",
         "30",
         "0.9492945033909115",
         "0.001768222215440795",
         "0.0018626698133452227",
         "67"
        ],
        [
         "31",
         "31",
         "0.9475262811754707",
         "0.0017649286012968069",
         "0.0018626698133452227",
         "67"
        ],
        [
         "32",
         "32",
         "0.9457613525741738",
         "0.0017616411220684617",
         "0.0018626698133452227",
         "67"
        ],
        [
         "33",
         "33",
         "0.9439997114521054",
         "0.0017583597663284373",
         "0.0018626698133452227",
         "67"
        ],
        [
         "34",
         "34",
         "0.9422413516857769",
         "0.0017550845226706965",
         "0.0018626698133452227",
         "67"
        ],
        [
         "35",
         "35",
         "0.9404862671631062",
         "0.0017518153797104483",
         "0.0018626698133452227",
         "67"
        ],
        [
         "36",
         "36",
         "0.9387344517833958",
         "0.001858948076031814",
         "0.001980270429513062",
         "68"
        ],
        [
         "37",
         "37",
         "0.9368755037073639",
         "0.001855266856126848",
         "0.001980270429513062",
         "68"
        ],
        [
         "38",
         "38",
         "0.9350202368512371",
         "0.0018515929260328043",
         "0.001980270429513062",
         "68"
        ],
        [
         "39",
         "39",
         "0.9331686439252044",
         "0.001847926271313886",
         "0.001980270429513062",
         "68"
        ],
        [
         "40",
         "40",
         "0.9313207176538905",
         "0.0018442668775628828",
         "0.001980270429513062",
         "68"
        ],
        [
         "41",
         "41",
         "0.9294764507763276",
         "0.0018406147304011146",
         "0.001980270429513062",
         "68"
        ],
        [
         "42",
         "42",
         "0.9276358360459265",
         "0.001836969815478375",
         "0.001980270429513062",
         "68"
        ],
        [
         "43",
         "43",
         "0.925798866230448",
         "0.0018333321184728752",
         "0.001980270429513062",
         "68"
        ],
        [
         "44",
         "44",
         "0.9239655341119751",
         "0.0018297016250911867",
         "0.001980270429513062",
         "68"
        ],
        [
         "45",
         "45",
         "0.9221358324868839",
         "0.0018260783210681867",
         "0.001980270429513062",
         "68"
        ],
        [
         "46",
         "46",
         "0.9203097541658157",
         "0.0018224621921670004",
         "0.001980270429513062",
         "68"
        ],
        [
         "47",
         "47",
         "0.9184872919736488",
         "0.0018188532241789465",
         "0.001980270429513062",
         "68"
        ],
        [
         "48",
         "48",
         "0.9166684387494698",
         "0.0019301769878323877",
         "0.002105643552499264",
         "69"
        ],
        [
         "49",
         "49",
         "0.9147382617616374",
         "0.001926112723102776",
         "0.002105643552499264",
         "69"
        ]
       ],
       "shape": {
        "columns": 5,
        "rows": 361
       }
      },
      "text/html": [
       "<div>\n",
       "<style scoped>\n",
       "    .dataframe tbody tr th:only-of-type {\n",
       "        vertical-align: middle;\n",
       "    }\n",
       "\n",
       "    .dataframe tbody tr th {\n",
       "        vertical-align: top;\n",
       "    }\n",
       "\n",
       "    .dataframe thead th {\n",
       "        text-align: right;\n",
       "    }\n",
       "</style>\n",
       "<table border=\"1\" class=\"dataframe\">\n",
       "  <thead>\n",
       "    <tr style=\"text-align: right;\">\n",
       "      <th></th>\n",
       "      <th>t</th>\n",
       "      <th>num_alive</th>\n",
       "      <th>num_deaths</th>\n",
       "      <th>q_x</th>\n",
       "      <th>age</th>\n",
       "    </tr>\n",
       "  </thead>\n",
       "  <tbody>\n",
       "    <tr>\n",
       "      <th>0</th>\n",
       "      <td>0</td>\n",
       "      <td>1.000000</td>\n",
       "      <td>0.001649</td>\n",
       "      <td>0.001649</td>\n",
       "      <td>65</td>\n",
       "    </tr>\n",
       "    <tr>\n",
       "      <th>1</th>\n",
       "      <td>1</td>\n",
       "      <td>0.998351</td>\n",
       "      <td>0.001646</td>\n",
       "      <td>0.001649</td>\n",
       "      <td>65</td>\n",
       "    </tr>\n",
       "    <tr>\n",
       "      <th>2</th>\n",
       "      <td>2</td>\n",
       "      <td>0.996705</td>\n",
       "      <td>0.001643</td>\n",
       "      <td>0.001649</td>\n",
       "      <td>65</td>\n",
       "    </tr>\n",
       "    <tr>\n",
       "      <th>3</th>\n",
       "      <td>3</td>\n",
       "      <td>0.995061</td>\n",
       "      <td>0.001641</td>\n",
       "      <td>0.001649</td>\n",
       "      <td>65</td>\n",
       "    </tr>\n",
       "    <tr>\n",
       "      <th>4</th>\n",
       "      <td>4</td>\n",
       "      <td>0.993421</td>\n",
       "      <td>0.001638</td>\n",
       "      <td>0.001649</td>\n",
       "      <td>65</td>\n",
       "    </tr>\n",
       "    <tr>\n",
       "      <th>...</th>\n",
       "      <td>...</td>\n",
       "      <td>...</td>\n",
       "      <td>...</td>\n",
       "      <td>...</td>\n",
       "      <td>...</td>\n",
       "    </tr>\n",
       "    <tr>\n",
       "      <th>356</th>\n",
       "      <td>356</td>\n",
       "      <td>0.192231</td>\n",
       "      <td>0.001942</td>\n",
       "      <td>0.010100</td>\n",
       "      <td>94</td>\n",
       "    </tr>\n",
       "    <tr>\n",
       "      <th>357</th>\n",
       "      <td>357</td>\n",
       "      <td>0.190289</td>\n",
       "      <td>0.001922</td>\n",
       "      <td>0.010100</td>\n",
       "      <td>94</td>\n",
       "    </tr>\n",
       "    <tr>\n",
       "      <th>358</th>\n",
       "      <td>358</td>\n",
       "      <td>0.188367</td>\n",
       "      <td>0.001902</td>\n",
       "      <td>0.010100</td>\n",
       "      <td>94</td>\n",
       "    </tr>\n",
       "    <tr>\n",
       "      <th>359</th>\n",
       "      <td>359</td>\n",
       "      <td>0.186465</td>\n",
       "      <td>0.001883</td>\n",
       "      <td>0.010100</td>\n",
       "      <td>94</td>\n",
       "    </tr>\n",
       "    <tr>\n",
       "      <th>360</th>\n",
       "      <td>360</td>\n",
       "      <td>0.184581</td>\n",
       "      <td>0.001986</td>\n",
       "      <td>0.010762</td>\n",
       "      <td>95</td>\n",
       "    </tr>\n",
       "  </tbody>\n",
       "</table>\n",
       "<p>361 rows × 5 columns</p>\n",
       "</div>"
      ],
      "text/plain": [
       "       t  num_alive  num_deaths       q_x  age\n",
       "0      0   1.000000    0.001649  0.001649   65\n",
       "1      1   0.998351    0.001646  0.001649   65\n",
       "2      2   0.996705    0.001643  0.001649   65\n",
       "3      3   0.995061    0.001641  0.001649   65\n",
       "4      4   0.993421    0.001638  0.001649   65\n",
       "..   ...        ...         ...       ...  ...\n",
       "356  356   0.192231    0.001942  0.010100   94\n",
       "357  357   0.190289    0.001922  0.010100   94\n",
       "358  358   0.188367    0.001902  0.010100   94\n",
       "359  359   0.186465    0.001883  0.010100   94\n",
       "360  360   0.184581    0.001986  0.010762   95\n",
       "\n",
       "[361 rows x 5 columns]"
      ]
     },
     "execution_count": 22,
     "metadata": {},
     "output_type": "execute_result"
    }
   ],
   "source": [
    "data3 = dict(init_age = 65)\n",
    "\n",
    "model3 = Model3(data=data3, basis=basis3, proj_len = 361)\n",
    "model3.df"
   ]
  },
  {
   "cell_type": "markdown",
   "metadata": {},
   "source": [
    "We can plot `age` against `q_x` to check it is broadly exponential:"
   ]
  },
  {
   "cell_type": "code",
   "execution_count": 23,
   "metadata": {},
   "outputs": [
    {
     "data": {
      "image/png": "[encoded data removed]",
      "text/plain": [
       "<Figure size 640x480 with 1 Axes>"
      ]
     },
     "metadata": {},
     "output_type": "display_data"
    }
   ],
   "source": [
    "model3.df.plot(x='age', y='q_x');"
   ]
  },
  {
   "cell_type": "markdown",
   "metadata": {},
   "source": [
    "And likewise, have a look at the pattern of deaths - starting around 0.02, and tailing off.  The saw type pattern is because ages are integer, so the same rate is used for 12 valuation periods."
   ]
  },
  {
   "cell_type": "code",
   "execution_count": 24,
   "metadata": {},
   "outputs": [
    {
     "data": {
      "image/png": "[encoded data removed]",
      "text/plain": [
       "<Figure size 640x480 with 1 Axes>"
      ]
     },
     "metadata": {},
     "output_type": "display_data"
    }
   ],
   "source": [
    "model3.df.plot(x='t', y='num_deaths');"
   ]
  },
  {
   "cell_type": "markdown",
   "metadata": {},
   "source": [
    "## Adding Cashflows - expected claim, premium and present values\n",
    "\n",
    "The q_x/12 approximation is a little poor, so this version replaces it with an appropriately 12thly-compounding version.\n",
    "\n",
    "There are a few different ways we can work out present values, we could either pull out cashflows from the model and use a separate `npv()` function, create a discounting model, however for simplicity in this case we'll add a `v` function.  In line with general actuarial practice which uses $v^t$: https://en.wikipedia.org/wiki/Actuarial_present_value\n",
    "\n",
    "`pv_claim` is an intermediate function, if we take the sum of this, it is the equivalent of Excel `SUMPRODUCT` on the `v` column and the `expected_claim` column."
   ]
  },
  {
   "cell_type": "code",
   "execution_count": 25,
   "metadata": {},
   "outputs": [],
   "source": [
    "class Model4(heavylight.Model):\n",
    "    basis: Basis  # added here to allow code auto-completion\n",
    "    data: dict\n",
    "\n",
    "    def t(self, t):\n",
    "        \"\"\"time\"\"\"\n",
    "        return t\n",
    "    \n",
    "    def num_alive(self, t):\n",
    "        \"\"\"probability that life is alive at time t, given alive at time 0\"\"\"\n",
    "        if t == 0:\n",
    "            return 1\n",
    "        else:\n",
    "            return self.num_alive(t - 1) - self.num_deaths(t - 1)     # deaths moved to a separate method\n",
    "        \n",
    "    def num_deaths(self, t):\n",
    "        \"\"\"number of deaths occuring between time t-1 and t\"\"\"\n",
    "        if t < 0:\n",
    "            return 0\n",
    "        else:\n",
    "            return self.num_alive(t) * self.q_x_m(t)\n",
    "\n",
    "    def q_x(self, t):\n",
    "        \"\"\"Annual mortality rate\"\"\"\n",
    "        return self.basis.mort_table[self.age(t)]\n",
    "    \n",
    "    def q_x_m(self, t):\n",
    "        \"\"\"Monthly mortality rate\"\"\"\n",
    "        return 1 - (1 - self.q_x(t)) ** (1/12)\n",
    "\n",
    "    def age(self, t):\n",
    "        \"\"\"age in years at time t\"\"\"\n",
    "        if t == 0:\n",
    "            return self.data[\"init_age\"]\n",
    "        elif t % 12 == 0:\n",
    "            return self.age(t - 1) + 1\n",
    "        else:\n",
    "            return self.age(t - 1)\n",
    "        \n",
    "    def expected_claim(self, t):\n",
    "        return self.data[\"sum_assured\"] * self.num_deaths(t)\n",
    "    \n",
    "    def v(self, t):\n",
    "        \"\"\"Present value factor for time t, discounting back to time 0\"\"\"\n",
    "        if t == 0:\n",
    "            return 1.0\n",
    "        else:\n",
    "            return self.v(t - 1) / (1 + self.basis.disc_rate_pm)\n",
    "    \n",
    "    def pv_claim(self, t):\n",
    "        \"\"\"present value of the expected claim occuring at time t\"\"\"\n",
    "        return self.expected_claim(t) * self.v(t)\n",
    "    "
   ]
  },
  {
   "cell_type": "markdown",
   "metadata": {},
   "source": [
    "We've added `sum_assured` in the code as a data item, so we'll update our data dictionary with `sum_assured`.  The basis is unchanged from the basis object we created earlier, called `basis3`."
   ]
  },
  {
   "cell_type": "code",
   "execution_count": 26,
   "metadata": {},
   "outputs": [
    {
     "data": {
      "application/vnd.microsoft.datawrangler.viewer.v0+json": {
       "columns": [
        {
         "name": "index",
         "rawType": "int64",
         "type": "integer"
        },
        {
         "name": "t",
         "rawType": "int64",
         "type": "integer"
        },
        {
         "name": "num_alive",
         "rawType": "float64",
         "type": "float"
        },
        {
         "name": "num_deaths",
         "rawType": "float64",
         "type": "float"
        },
        {
         "name": "q_x",
         "rawType": "float64",
         "type": "float"
        },
        {
         "name": "q_x_m",
         "rawType": "float64",
         "type": "float"
        },
        {
         "name": "age",
         "rawType": "int64",
         "type": "integer"
        },
        {
         "name": "expected_claim",
         "rawType": "float64",
         "type": "float"
        },
        {
         "name": "v",
         "rawType": "float64",
         "type": "float"
        },
        {
         "name": "pv_claim",
         "rawType": "float64",
         "type": "float"
        }
       ],
       "conversionMethod": "pd.DataFrame",
       "ref": "d993d4cf-5a97-4c78-aa2d-4a7fc27ccad1",
       "rows": [
        [
         "0",
         "0",
         "1.0",
         "0.0016640339375916247",
         "0.01978666257488557",
         "0.0016640339375916247",
         "65",
         "166.40339375916247",
         "1.0",
         "166.40339375916247"
        ],
        [
         "1",
         "1",
         "0.9983359660624084",
         "0.001661264928646168",
         "0.01978666257488557",
         "0.0016640339375916247",
         "65",
         "166.1264928646168",
         "0.9967369426185623",
         "165.58441258582255"
        ],
        [
         "2",
         "2",
         "0.9966747011337622",
         "0.00165850052742557",
         "0.01978666257488557",
         "0.0016640339375916247",
         "65",
         "165.850052742557",
         "0.9934845327805991",
         "164.76946216057698"
        ],
        [
         "3",
         "3",
         "0.9950162006063367",
         "0.0016557407262624204",
         "0.01978666257488557",
         "0.0016640339375916247",
         "65",
         "165.57407262624204",
         "0.9902427357425652",
         "163.95852264544808"
        ],
        [
         "4",
         "4",
         "0.9933604598800743",
         "0.001652985517502067",
         "0.01978666257488557",
         "0.0016640339375916247",
         "65",
         "165.2985517502067",
         "0.9870115168742853",
         "163.15157430009407"
        ],
        [
         "5",
         "5",
         "0.9917074743625722",
         "0.0016502348935025961",
         "0.01978666257488557",
         "0.0016640339375916247",
         "65",
         "165.0234893502596",
         "0.9837908416585847",
         "162.34859748132837"
        ],
        [
         "6",
         "6",
         "0.9900572394690696",
         "0.0016474888466348101",
         "0.01978666257488557",
         "0.0016640339375916247",
         "65",
         "164.74888466348102",
         "0.9805806756909198",
         "161.54957264264164"
        ],
        [
         "7",
         "7",
         "0.9884097506224349",
         "0.001644747369282206",
         "0.01978666257488557",
         "0.0016640339375916247",
         "65",
         "164.4747369282206",
         "0.9773809846790114",
         "160.7544803337256"
        ],
        [
         "8",
         "8",
         "0.9867650032531526",
         "0.0016420104538409559",
         "0.01978666257488557",
         "0.0016640339375916247",
         "65",
         "164.20104538409558",
         "0.9741917344424776",
         "159.96330120000005"
        ],
        [
         "9",
         "9",
         "0.9851229927993117",
         "0.0016392780927198844",
         "0.01978666257488557",
         "0.0016640339375916247",
         "65",
         "163.92780927198845",
         "0.9710128909124696",
         "159.17601598214145"
        ],
        [
         "10",
         "10",
         "0.9834837147065918",
         "0.001636550278340448",
         "0.01978666257488557",
         "0.0016640339375916247",
         "65",
         "163.6550278340448",
         "0.9678444201313064",
         "158.3926055156139"
        ],
        [
         "11",
         "11",
         "0.9818471644282514",
         "0.0016338270031367144",
         "0.01978666257488557",
         "0.0016640339375916247",
         "65",
         "163.38270031367145",
         "0.9646862882521137",
         "157.61305073020316"
        ],
        [
         "12",
         "12",
         "0.9802133374251146",
         "0.0017344674012982262",
         "0.021028318169182755",
         "0.001769479494998949",
         "66",
         "173.44674012982262",
         "0.9615384615384609",
         "166.77571166329088"
        ],
        [
         "13",
         "13",
         "0.9784788700238164",
         "0.001731398296796885",
         "0.021028318169182755",
         "0.001769479494998949",
         "66",
         "173.1398296796885",
         "0.9584009063640015",
         "165.9373696927223"
        ],
        [
         "14",
         "14",
         "0.9767474717270195",
         "0.0017283346230130266",
         "0.021028318169182755",
         "0.001769479494998949",
         "66",
         "172.83346230130266",
         "0.9552735892121139",
         "165.10324186852196"
        ],
        [
         "15",
         "15",
         "0.9750191371040065",
         "0.0017252763703371084",
         "0.021028318169182755",
         "0.001769479494998949",
         "66",
         "172.52763703371085",
         "0.9521564766755428",
         "164.27330700717502"
        ],
        [
         "16",
         "16",
         "0.9732938607336693",
         "0.0017222235291765905",
         "0.021028318169182755",
         "0.001769479494998949",
         "66",
         "172.22235291765904",
         "0.949049535456043",
         "163.447544031651"
        ],
        [
         "17",
         "17",
         "0.9715716372044927",
         "0.0017191760899559077",
         "0.021028318169182755",
         "0.001769479494998949",
         "66",
         "171.91760899559077",
         "0.9459527323640231",
         "162.62593197086883"
        ],
        [
         "18",
         "18",
         "0.9698524611145368",
         "0.0017161340431164384",
         "0.021028318169182755",
         "0.001769479494998949",
         "66",
         "171.61340431164385",
         "0.9428660343181915",
         "161.80844995916405"
        ],
        [
         "19",
         "19",
         "0.9681363270714204",
         "0.0017130973791164743",
         "0.021028318169182755",
         "0.001769479494998949",
         "66",
         "171.30973791164743",
         "0.9397894083452026",
         "160.99507723575886"
        ],
        [
         "20",
         "20",
         "0.9664232296923039",
         "0.001710066088431191",
         "0.021028318169182755",
         "0.001769479494998949",
         "66",
         "171.0066088431191",
         "0.9367228215793049",
         "160.18579314423502"
        ],
        [
         "21",
         "21",
         "0.9647131636038727",
         "0.001707040161552619",
         "0.021028318169182755",
         "0.001769479494998949",
         "66",
         "170.7040161552619",
         "0.9336662412619894",
         "159.3805771320093"
        ],
        [
         "22",
         "22",
         "0.9630061234423201",
         "0.001704019588989612",
         "0.021028318169182755",
         "0.001769479494998949",
         "66",
         "170.4019588989612",
         "0.9306196347416402",
         "158.57940874981125"
        ],
        [
         "23",
         "23",
         "0.9613021038533305",
         "0.0017010043612678185",
         "0.021028318169182755",
         "0.001769479494998949",
         "66",
         "170.10043612678186",
         "0.9275829694731856",
         "157.78226765116426"
        ],
        [
         "24",
         "24",
         "0.9596010994920626",
         "0.0018059973894692034",
         "0.022352037760142673",
         "0.0018820293040776592",
         "67",
         "180.59973894692033",
         "0.9245562130177503",
         "166.97461071275896"
        ],
        [
         "25",
         "25",
         "0.9577951021025934",
         "0.0018025984494591345",
         "0.022352037760142673",
         "0.0018820293040776592",
         "67",
         "180.25984494591344",
         "0.9215393330423086",
         "166.11653728576704"
        ],
        [
         "26",
         "26",
         "0.9559925036531343",
         "0.0017992059063537673",
         "0.022352037760142673",
         "0.0018820293040776592",
         "67",
         "179.92059063537673",
         "0.9185322973193397",
         "165.26287345136507"
        ],
        [
         "27",
         "27",
         "0.9541932977467805",
         "0.00179581974811394",
         "0.022352037760142673",
         "0.0018820293040776592",
         "67",
         "179.58197481139402",
         "0.9155350737264829",
         "164.41359654889703"
        ],
        [
         "28",
         "28",
         "0.9523974779986666",
         "0.0017924399627231482",
         "0.022352037760142673",
         "0.0018820293040776592",
         "67",
         "179.24399627231483",
         "0.9125476302461946",
         "163.56868403415862"
        ],
        [
         "29",
         "29",
         "0.9506050380359434",
         "0.0017890665381875034",
         "0.022352037760142673",
         "0.0018820293040776592",
         "67",
         "178.90665381875033",
         "0.9095699349654063",
         "162.7281134787992"
        ],
        [
         "30",
         "30",
         "0.9488159714977559",
         "0.0017856994625356896",
         "0.022352037760142673",
         "0.0018820293040776592",
         "67",
         "178.56994625356896",
         "0.9066019560751836",
         "161.89186256972602"
        ],
        [
         "31",
         "31",
         "0.9470302720352202",
         "0.0017823387238189217",
         "0.022352037760142673",
         "0.0018820293040776592",
         "67",
         "178.23387238189218",
         "0.9036436618703866",
         "161.05990910851222"
        ],
        [
         "32",
         "32",
         "0.9452479333114012",
         "0.0017789843101109022",
         "0.022352037760142673",
         "0.0018820293040776592",
         "67",
         "177.89843101109022",
         "0.900695020749331",
         "160.23223101080734"
        ],
        [
         "33",
         "33",
         "0.9434689490012903",
         "0.0017756362095077789",
         "0.022352037760142673",
         "0.0018820293040776592",
         "67",
         "177.5636209507779",
         "0.8977560012134508",
         "159.40880630575128"
        ],
        [
         "34",
         "34",
         "0.9416933127917825",
         "0.0017722944101281038",
         "0.022352037760142673",
         "0.0018820293040776592",
         "67",
         "177.22944101281038",
         "0.8948265718669612",
         "158.58961313539095"
        ],
        [
         "35",
         "35",
         "0.9399210183816544",
         "0.0017689589001127898",
         "0.022352037760142673",
         "0.0018820293040776592",
         "67",
         "176.895890011279",
         "0.8919067014165242",
         "157.77462975410012"
        ],
        [
         "36",
         "36",
         "0.9381520594815417",
         "0.001878341550445011",
         "0.023763245154156742",
         "0.002002171749730053",
         "68",
         "187.8341550445011",
         "0.8889963586709132",
         "166.9838798685892"
        ],
        [
         "37",
         "37",
         "0.9362737179310967",
         "0.0018745807880563659",
         "0.023763245154156742",
         "0.002002171749730053",
         "68",
         "187.45807880563657",
         "0.8860955125406809",
         "166.1057624191719"
        ],
        [
         "38",
         "38",
         "0.9343991371430403",
         "0.0018708275553599328",
         "0.023763245154156742",
         "0.002002171749730053",
         "68",
         "187.08275553599327",
         "0.8832041320378262",
         "165.23226272241178"
        ],
        [
         "39",
         "39",
         "0.9325283095876804",
         "0.0018670818372799746",
         "0.023763245154156742",
         "0.002002171749730053",
         "68",
         "186.70818372799746",
         "0.8803221862754639",
         "164.36335649495172"
        ],
        [
         "40",
         "40",
         "0.9306612277504004",
         "0.0018633436187709383",
         "0.023763245154156742",
         "0.002002171749730053",
         "68",
         "186.33436187709384",
         "0.8774496444674944",
         "163.49901958113344"
        ],
        [
         "41",
         "41",
         "0.9287978841316294",
         "0.0018596128848173954",
         "0.023763245154156742",
         "0.002002171749730053",
         "68",
         "185.96128848173953",
         "0.8745864759282749",
         "162.63922795232588"
        ],
        [
         "42",
         "42",
         "0.926938271246812",
         "0.0018558896204339801",
         "0.023763245154156742",
         "0.002002171749730053",
         "68",
         "185.588962043398",
         "0.8717326500722915",
         "161.78395770625727"
        ],
        [
         "43",
         "43",
         "0.9250823816263781",
         "0.00185217381066533",
         "0.023763245154156742",
         "0.002002171749730053",
         "68",
         "185.217381066533",
         "0.8688881364138329",
         "160.9331850663506"
        ],
        [
         "44",
         "44",
         "0.9232302078157127",
         "0.0018484654405860259",
         "0.023763245154156742",
         "0.002002171749730053",
         "68",
         "184.84654405860257",
         "0.8660529045666641",
         "160.0868863810626"
        ],
        [
         "45",
         "45",
         "0.9213817423751267",
         "0.0018447644953005322",
         "0.023763245154156742",
         "0.002002171749730053",
         "68",
         "184.47644953005323",
         "0.8632269242437023",
         "159.24503812322644"
        ],
        [
         "46",
         "46",
         "0.9195369778798261",
         "0.0018410709599431365",
         "0.023763245154156742",
         "0.002002171749730053",
         "68",
         "184.10709599431365",
         "0.8604101652566931",
         "158.40761688939727"
        ],
        [
         "47",
         "47",
         "0.917695906919883",
         "0.0018373848196778899",
         "0.023763245154156742",
         "0.002002171749730053",
         "68",
         "183.738481967789",
         "0.8576025975158882",
         "157.57459939920201"
        ],
        [
         "48",
         "48",
         "0.9158585221002051",
         "0.0019511726137679919",
         "0.02526772262999117",
         "0.0021304301556245298",
         "69",
         "195.11726137679918",
         "0.8548041910297238",
         "166.78705276713"
        ],
        [
         "49",
         "49",
         "0.9139073494864371",
         "0.0019470157767927918",
         "0.02526772262999117",
         "0.0021304301556245298",
         "69",
         "194.70157767927918",
         "0.8520149159045004",
         "165.8886483328846"
        ]
       ],
       "shape": {
        "columns": 9,
        "rows": 361
       }
      },
      "text/html": [
       "<div>\n",
       "<style scoped>\n",
       "    .dataframe tbody tr th:only-of-type {\n",
       "        vertical-align: middle;\n",
       "    }\n",
       "\n",
       "    .dataframe tbody tr th {\n",
       "        vertical-align: top;\n",
       "    }\n",
       "\n",
       "    .dataframe thead th {\n",
       "        text-align: right;\n",
       "    }\n",
       "</style>\n",
       "<table border=\"1\" class=\"dataframe\">\n",
       "  <thead>\n",
       "    <tr style=\"text-align: right;\">\n",
       "      <th></th>\n",
       "      <th>t</th>\n",
       "      <th>num_alive</th>\n",
       "      <th>num_deaths</th>\n",
       "      <th>q_x</th>\n",
       "      <th>q_x_m</th>\n",
       "      <th>age</th>\n",
       "      <th>expected_claim</th>\n",
       "      <th>v</th>\n",
       "      <th>pv_claim</th>\n",
       "    </tr>\n",
       "  </thead>\n",
       "  <tbody>\n",
       "    <tr>\n",
       "      <th>0</th>\n",
       "      <td>0</td>\n",
       "      <td>1.000000</td>\n",
       "      <td>0.001664</td>\n",
       "      <td>0.019787</td>\n",
       "      <td>0.001664</td>\n",
       "      <td>65</td>\n",
       "      <td>166.403394</td>\n",
       "      <td>1.000000</td>\n",
       "      <td>166.403394</td>\n",
       "    </tr>\n",
       "    <tr>\n",
       "      <th>1</th>\n",
       "      <td>1</td>\n",
       "      <td>0.998336</td>\n",
       "      <td>0.001661</td>\n",
       "      <td>0.019787</td>\n",
       "      <td>0.001664</td>\n",
       "      <td>65</td>\n",
       "      <td>166.126493</td>\n",
       "      <td>0.996737</td>\n",
       "      <td>165.584413</td>\n",
       "    </tr>\n",
       "    <tr>\n",
       "      <th>2</th>\n",
       "      <td>2</td>\n",
       "      <td>0.996675</td>\n",
       "      <td>0.001659</td>\n",
       "      <td>0.019787</td>\n",
       "      <td>0.001664</td>\n",
       "      <td>65</td>\n",
       "      <td>165.850053</td>\n",
       "      <td>0.993485</td>\n",
       "      <td>164.769462</td>\n",
       "    </tr>\n",
       "    <tr>\n",
       "      <th>3</th>\n",
       "      <td>3</td>\n",
       "      <td>0.995016</td>\n",
       "      <td>0.001656</td>\n",
       "      <td>0.019787</td>\n",
       "      <td>0.001664</td>\n",
       "      <td>65</td>\n",
       "      <td>165.574073</td>\n",
       "      <td>0.990243</td>\n",
       "      <td>163.958523</td>\n",
       "    </tr>\n",
       "    <tr>\n",
       "      <th>4</th>\n",
       "      <td>4</td>\n",
       "      <td>0.993360</td>\n",
       "      <td>0.001653</td>\n",
       "      <td>0.019787</td>\n",
       "      <td>0.001664</td>\n",
       "      <td>65</td>\n",
       "      <td>165.298552</td>\n",
       "      <td>0.987012</td>\n",
       "      <td>163.151574</td>\n",
       "    </tr>\n",
       "    <tr>\n",
       "      <th>...</th>\n",
       "      <td>...</td>\n",
       "      <td>...</td>\n",
       "      <td>...</td>\n",
       "      <td>...</td>\n",
       "      <td>...</td>\n",
       "      <td>...</td>\n",
       "      <td>...</td>\n",
       "      <td>...</td>\n",
       "      <td>...</td>\n",
       "    </tr>\n",
       "    <tr>\n",
       "      <th>356</th>\n",
       "      <td>356</td>\n",
       "      <td>0.181641</td>\n",
       "      <td>0.001945</td>\n",
       "      <td>0.121199</td>\n",
       "      <td>0.010709</td>\n",
       "      <td>94</td>\n",
       "      <td>194.513192</td>\n",
       "      <td>0.312376</td>\n",
       "      <td>60.761245</td>\n",
       "    </tr>\n",
       "    <tr>\n",
       "      <th>357</th>\n",
       "      <td>357</td>\n",
       "      <td>0.179696</td>\n",
       "      <td>0.001924</td>\n",
       "      <td>0.121199</td>\n",
       "      <td>0.010709</td>\n",
       "      <td>94</td>\n",
       "      <td>192.430222</td>\n",
       "      <td>0.311357</td>\n",
       "      <td>59.914431</td>\n",
       "    </tr>\n",
       "    <tr>\n",
       "      <th>358</th>\n",
       "      <td>358</td>\n",
       "      <td>0.177772</td>\n",
       "      <td>0.001904</td>\n",
       "      <td>0.121199</td>\n",
       "      <td>0.010709</td>\n",
       "      <td>94</td>\n",
       "      <td>190.369557</td>\n",
       "      <td>0.310341</td>\n",
       "      <td>59.079418</td>\n",
       "    </tr>\n",
       "    <tr>\n",
       "      <th>359</th>\n",
       "      <td>359</td>\n",
       "      <td>0.175868</td>\n",
       "      <td>0.001883</td>\n",
       "      <td>0.121199</td>\n",
       "      <td>0.010709</td>\n",
       "      <td>94</td>\n",
       "      <td>188.330959</td>\n",
       "      <td>0.309328</td>\n",
       "      <td>58.256043</td>\n",
       "    </tr>\n",
       "    <tr>\n",
       "      <th>360</th>\n",
       "      <td>360</td>\n",
       "      <td>0.173985</td>\n",
       "      <td>0.001993</td>\n",
       "      <td>0.129143</td>\n",
       "      <td>0.011457</td>\n",
       "      <td>95</td>\n",
       "      <td>199.334525</td>\n",
       "      <td>0.308319</td>\n",
       "      <td>61.458555</td>\n",
       "    </tr>\n",
       "  </tbody>\n",
       "</table>\n",
       "<p>361 rows × 9 columns</p>\n",
       "</div>"
      ],
      "text/plain": [
       "       t  num_alive  num_deaths       q_x     q_x_m  age  expected_claim  \\\n",
       "0      0   1.000000    0.001664  0.019787  0.001664   65      166.403394   \n",
       "1      1   0.998336    0.001661  0.019787  0.001664   65      166.126493   \n",
       "2      2   0.996675    0.001659  0.019787  0.001664   65      165.850053   \n",
       "3      3   0.995016    0.001656  0.019787  0.001664   65      165.574073   \n",
       "4      4   0.993360    0.001653  0.019787  0.001664   65      165.298552   \n",
       "..   ...        ...         ...       ...       ...  ...             ...   \n",
       "356  356   0.181641    0.001945  0.121199  0.010709   94      194.513192   \n",
       "357  357   0.179696    0.001924  0.121199  0.010709   94      192.430222   \n",
       "358  358   0.177772    0.001904  0.121199  0.010709   94      190.369557   \n",
       "359  359   0.175868    0.001883  0.121199  0.010709   94      188.330959   \n",
       "360  360   0.173985    0.001993  0.129143  0.011457   95      199.334525   \n",
       "\n",
       "            v    pv_claim  \n",
       "0    1.000000  166.403394  \n",
       "1    0.996737  165.584413  \n",
       "2    0.993485  164.769462  \n",
       "3    0.990243  163.958523  \n",
       "4    0.987012  163.151574  \n",
       "..        ...         ...  \n",
       "356  0.312376   60.761245  \n",
       "357  0.311357   59.914431  \n",
       "358  0.310341   59.079418  \n",
       "359  0.309328   58.256043  \n",
       "360  0.308319   61.458555  \n",
       "\n",
       "[361 rows x 9 columns]"
      ]
     },
     "execution_count": 26,
     "metadata": {},
     "output_type": "execute_result"
    }
   ],
   "source": [
    "data4 = dict(init_age = 65,\n",
    "             sum_assured = 100_000,\n",
    "             )\n",
    "\n",
    "model4 = Model4(data=data4, basis=basis3, proj_len = 361)\n",
    "model4.df"
   ]
  },
  {
   "cell_type": "markdown",
   "metadata": {},
   "source": [
    "We can now calculate the present value of claims, using the .sum() method:"
   ]
  },
  {
   "cell_type": "code",
   "execution_count": 27,
   "metadata": {},
   "outputs": [
    {
     "data": {
      "text/plain": [
       "47228.33160491008"
      ]
     },
     "execution_count": 27,
     "metadata": {},
     "output_type": "execute_result"
    }
   ],
   "source": [
    "model4.pv_claim.sum()"
   ]
  },
  {
   "cell_type": "markdown",
   "metadata": {},
   "source": [
    "Finally - let's run the model a few times in a loop to see the sensitivity of claims to age:"
   ]
  },
  {
   "cell_type": "code",
   "execution_count": 28,
   "metadata": {},
   "outputs": [
    {
     "name": "stdout",
     "output_type": "stream",
     "text": [
      "Age: 35 → PV Claim: 12,358.30\n",
      "Age: 45 → PV Claim: 20,323.02\n",
      "Age: 55 → PV Claim: 32,279.74\n",
      "Age: 65 → PV Claim: 47,228.33\n"
     ]
    }
   ],
   "source": [
    "for age in [35, 45, 55, 65]:\n",
    "    proj_result = Model4(data=dict(init_age=age, sum_assured=100_000),basis=basis3, proj_len=361)\n",
    "    pv_claim = proj_result.pv_claim.sum()\n",
    "    print(f\"Age: {age} → PV Claim: {pv_claim:0,.2f}\")"
   ]
  },
  {
   "cell_type": "markdown",
   "metadata": {},
   "source": [
    "From here the model result can be used downstream in other code, or exported to an file, e.g. using the pandas method `to_excel` or `to_csv`. https://pandas.pydata.org/pandas-docs/stable/reference/api/pandas.DataFrame.to_excel.html"
   ]
  },
  {
   "cell_type": "markdown",
   "metadata": {},
   "source": [
    "## What next?\n",
    "\n",
    "That completes this introduction, you could try adding some variables of your own to the model, for example:\n",
    "\n",
    "- Adding an `expected_premium` function, which takes `monthly_premium` from data.\n",
    "- Adding a maximum policy term (at the moment it is controlled by `proj_len`).\n",
    "- Use a yield curve rather than a flat rate"
   ]
  }
 ],
 "metadata": {
  "kernelspec": {
   "display_name": "heavylight",
   "language": "python",
   "name": "python3"
  },
  "language_info": {
   "codemirror_mode": {
    "name": "ipython",
    "version": 3
   },
   "file_extension": ".py",
   "mimetype": "text/x-python",
   "name": "python",
   "nbconvert_exporter": "python",
   "pygments_lexer": "ipython3",
   "version": "3.11.5"
  }
 },
 "nbformat": 4,
 "nbformat_minor": 2
}
