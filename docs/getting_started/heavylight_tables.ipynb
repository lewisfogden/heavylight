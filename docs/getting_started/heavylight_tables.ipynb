{
 "cells": [
  {
   "cell_type": "markdown",
   "metadata": {},
   "source": [
    "# Exploring heavylight.Tables\n",
    "\n",
    "This document provides a walkthrough of `Table` features, including examples showing the dynamics."
   ]
  },
  {
   "cell_type": "markdown",
   "metadata": {},
   "source": [
    "## What is the `Table` class?\n",
    "\n",
    "The Table class provides an efficient way to store and lookup values in actuarial tables, including tables with more than one key, and tables with interval based keys.  The table is stored in *long* format, that is, each unique key stores a single value.\n",
    "\n",
    "Using the `Table` is completely optional, and it can be used for other purposes as well as within heavylight Models.  You may find that Python dictionaries, classes, or pandas dataframes work better for certain use cases.  Challenges on use cases are welcome, please post a new issue on [GitHub](https://github.com/lewisfogden/heavylight/issues) \n",
    "\n",
    "### Keys\n",
    "\n",
    "`Table` determines the type of key column based on the column name suffix, the following are supported:\n",
    "\n",
    "- `|int`: integers (...0, 1, 2, 3...), can start and end anywhere, but must be consecutive\n",
    "- `|int_bound`: as `|int` but any values are constrained to the lowest and highest values.\n",
    "- `|int_cat`: integer are interpreted as categories, e.g. frequencies of 1, 3, 6, 12 months.\n",
    "- `|str`: keys are interpreted as strings, e.g. 'M' and 'F'\n",
    "- `|band`: key is numeric and treated as the upper bound on a lookup.\n",
    "\n",
    "\n",
    "### Creating a Table\n",
    "\n",
    "Below table has an example of the input structure for creating a table, which has 3 keys (age, dur, product) and one value:\n",
    "\n",
    "| age\\|int | dur\\|int_bound | product\\|str | value\\|float |\n",
    "|:--------:|:--------------:|:------------:|:------------:|\n",
    "|  20      |  0             |  DTA         |  0.03        |\n",
    "|  21      |  0             |  DTA         |  0.04        |\n",
    "|  ...     |  ...           |  ....        |  ...         |\n",
    "\n",
    "Note that the `value` type (`|float`) is not currently used/implemented, however we recommend using this to document the type of the value, and if a future implementation includes value type validation.\n",
    "\n",
    "Tables are typically created from dataframes, for convenience a `read_excel` and `read_csv` methods are included which will work for correctly prepared tables.\n",
    "\n",
    "#### Initialising using `Table()`\n",
    "\n",
    "```python\n",
    "table = Table(df, rectify=False, safe=True)\n",
    "```\n",
    "This has the following arguments:\n",
    "\n",
    "  - `df`: The pandas dataframe to be loaded in, which should follow the rules outlined above in terms of keys and values.  Any index columns in the dataframe will be ignored.\n",
    "\n",
    "  - *optional* `rectify`: If `True` then this will attempt to ensure that the dataframe is rectangular, through filling out any missing values.  The default `False` will cause an error to be raised if the dataframe isn't rectangular.  A *rectangular* dataframe is one where a value is defined for each combination of keys in each of the key columns.\n",
    "  \n",
    "  - *optional* `safe`: If `True` then any `|int` keys will be automatically tested to ensure they are within the lower and upper bounds, with an exception being raised if any values fall outside the interval.  Keys of type `int_bound` are automatically safe.\n",
    "\n",
    "\n",
    "#### Initialising using `Table.read_excel` and `Table.read_csv`\n",
    "\n",
    "```python\n",
    "Table.read_excel(spreadsheet_path, sheet_name)\n",
    "```\n",
    "\n",
    "This has the following arguments:\n",
    "\n",
    "  - `spreadsheet_path`: a string or pathlib.Path object pointing to the spreadsheet, for example: `C:\\path\\to\\basis.xlsx`\n",
    "  - `sheet_name`: the name of the worksheet within the workbook, for example: `mortality_table`.  `read_excel` will attempt to read all data in this sheet to the table.\n",
    "\n",
    "If you have more complicated spreadsheets (for example offset/named ranges), you may need to write your own reader to prepare the dataframe and use the `Table()` constructor.\n",
    "\n",
    "You may need to install `openpyxl` or another python Excel library in order to use this constructor.\n",
    "\n",
    "```python\n",
    "Table.read_csv(csv_path)\n",
    "```\n",
    "\n",
    "This will aim to create a dataframe by using `pandas.read_csv`.  For more complicated csv files, including non-standard separators, using `pandas.read_<type>` is recommended.\n",
    "\n",
    "This has the following argument:\n",
    "  - `csv_path`: the path to the csv file.\n",
    "\n",
    "The following examples are intended to illustrate the above."
   ]
  },
  {
   "cell_type": "code",
   "execution_count": 18,
   "metadata": {},
   "outputs": [
    {
     "name": "stdout",
     "output_type": "stream",
     "text": [
      "Version: heavylight.__version__ = '1.0.10'\n"
     ]
    }
   ],
   "source": [
    "from heavylight import Table\n",
    "import numpy as np\n",
    "import pandas as pd\n",
    "import seaborn as sns\n",
    "import heavylight\n",
    "print(f\"Version: {heavylight.__version__ = }\")"
   ]
  },
  {
   "cell_type": "markdown",
   "metadata": {},
   "source": [
    "## Example 1: Simple Table\n",
    "\n",
    "Tables can be created directly from pandas dataframes, or from csv files or excel spreadsheet.\n",
    "\n",
    "Here we create a dataframe table, with key `x` being an integer key, and floating point values."
   ]
  },
  {
   "cell_type": "code",
   "execution_count": 2,
   "metadata": {},
   "outputs": [
    {
     "data": {
      "application/vnd.microsoft.datawrangler.viewer.v0+json": {
       "columns": [
        {
         "name": "index",
         "rawType": "int64",
         "type": "integer"
        },
        {
         "name": "x|int",
         "rawType": "int64",
         "type": "integer"
        },
        {
         "name": "value|float",
         "rawType": "float64",
         "type": "float"
        }
       ],
       "conversionMethod": "pd.DataFrame",
       "ref": "4b776d18-d6e8-4619-b306-53bbc821f01b",
       "rows": [
        [
         "26",
         "46",
         "1.81"
        ],
        [
         "27",
         "47",
         "1.85"
        ],
        [
         "28",
         "48",
         "1.89"
        ],
        [
         "29",
         "49",
         "1.93"
        ],
        [
         "30",
         "50",
         "1.97"
        ]
       ],
       "shape": {
        "columns": 2,
        "rows": 5
       }
      },
      "text/html": [
       "<div>\n",
       "<style scoped>\n",
       "    .dataframe tbody tr th:only-of-type {\n",
       "        vertical-align: middle;\n",
       "    }\n",
       "\n",
       "    .dataframe tbody tr th {\n",
       "        vertical-align: top;\n",
       "    }\n",
       "\n",
       "    .dataframe thead th {\n",
       "        text-align: right;\n",
       "    }\n",
       "</style>\n",
       "<table border=\"1\" class=\"dataframe\">\n",
       "  <thead>\n",
       "    <tr style=\"text-align: right;\">\n",
       "      <th></th>\n",
       "      <th>x|int</th>\n",
       "      <th>value|float</th>\n",
       "    </tr>\n",
       "  </thead>\n",
       "  <tbody>\n",
       "    <tr>\n",
       "      <th>26</th>\n",
       "      <td>46</td>\n",
       "      <td>1.81</td>\n",
       "    </tr>\n",
       "    <tr>\n",
       "      <th>27</th>\n",
       "      <td>47</td>\n",
       "      <td>1.85</td>\n",
       "    </tr>\n",
       "    <tr>\n",
       "      <th>28</th>\n",
       "      <td>48</td>\n",
       "      <td>1.89</td>\n",
       "    </tr>\n",
       "    <tr>\n",
       "      <th>29</th>\n",
       "      <td>49</td>\n",
       "      <td>1.93</td>\n",
       "    </tr>\n",
       "    <tr>\n",
       "      <th>30</th>\n",
       "      <td>50</td>\n",
       "      <td>1.97</td>\n",
       "    </tr>\n",
       "  </tbody>\n",
       "</table>\n",
       "</div>"
      ],
      "text/plain": [
       "    x|int  value|float\n",
       "26     46         1.81\n",
       "27     47         1.85\n",
       "28     48         1.89\n",
       "29     49         1.93\n",
       "30     50         1.97"
      ]
     },
     "execution_count": 2,
     "metadata": {},
     "output_type": "execute_result"
    }
   ],
   "source": [
    "df1 = pd.DataFrame({\n",
    "    'x|int': np.arange(20, 51),\n",
    "})\n",
    "df1['value|float'] = df1['x|int'] * 0.04 - 0.03\n",
    "df1.tail()"
   ]
  },
  {
   "cell_type": "markdown",
   "metadata": {},
   "source": [
    "We can pass the dataframe in as the contructor to the class."
   ]
  },
  {
   "cell_type": "code",
   "execution_count": 3,
   "metadata": {},
   "outputs": [],
   "source": [
    "tab1 = Table(df1)"
   ]
  },
  {
   "cell_type": "markdown",
   "metadata": {},
   "source": [
    "Querying a single value from the table just involves using array `[]` notation."
   ]
  },
  {
   "cell_type": "code",
   "execution_count": 4,
   "metadata": {},
   "outputs": [
    {
     "name": "stdout",
     "output_type": "stream",
     "text": [
      "0.77\n",
      "0.0\n"
     ]
    }
   ],
   "source": [
    "print(tab1[20])\n",
    "print(tab1[20] - (20*0.04 - 0.03))    # this should equal zero"
   ]
  },
  {
   "cell_type": "markdown",
   "metadata": {},
   "source": [
    "We can query multiple results by passing in a numpy array.  (if not a numpy array then convert first using `np.array`)."
   ]
  },
  {
   "cell_type": "code",
   "execution_count": 5,
   "metadata": {},
   "outputs": [
    {
     "data": {
      "text/plain": [
       "array([1.17, 0.77, 0.77, 1.97])"
      ]
     },
     "execution_count": 5,
     "metadata": {},
     "output_type": "execute_result"
    }
   ],
   "source": [
    "x1s = np.array([30, 20, 20, 50])\n",
    "tab1[x1s]"
   ]
  },
  {
   "cell_type": "markdown",
   "metadata": {},
   "source": [
    "## Example 2: String key"
   ]
  },
  {
   "cell_type": "code",
   "execution_count": 6,
   "metadata": {},
   "outputs": [
    {
     "data": {
      "application/vnd.microsoft.datawrangler.viewer.v0+json": {
       "columns": [
        {
         "name": "index",
         "rawType": "int64",
         "type": "integer"
        },
        {
         "name": "x|str",
         "rawType": "object",
         "type": "string"
        },
        {
         "name": "value|float",
         "rawType": "float64",
         "type": "float"
        }
       ],
       "conversionMethod": "pd.DataFrame",
       "ref": "3da1799e-908f-41bb-aff7-933f6650d8d3",
       "rows": [
        [
         "0",
         "A",
         "0.3"
        ],
        [
         "1",
         "B",
         "0.5"
        ],
        [
         "2",
         "C",
         "0.9"
        ]
       ],
       "shape": {
        "columns": 2,
        "rows": 3
       }
      },
      "text/html": [
       "<div>\n",
       "<style scoped>\n",
       "    .dataframe tbody tr th:only-of-type {\n",
       "        vertical-align: middle;\n",
       "    }\n",
       "\n",
       "    .dataframe tbody tr th {\n",
       "        vertical-align: top;\n",
       "    }\n",
       "\n",
       "    .dataframe thead th {\n",
       "        text-align: right;\n",
       "    }\n",
       "</style>\n",
       "<table border=\"1\" class=\"dataframe\">\n",
       "  <thead>\n",
       "    <tr style=\"text-align: right;\">\n",
       "      <th></th>\n",
       "      <th>x|str</th>\n",
       "      <th>value|float</th>\n",
       "    </tr>\n",
       "  </thead>\n",
       "  <tbody>\n",
       "    <tr>\n",
       "      <th>0</th>\n",
       "      <td>A</td>\n",
       "      <td>0.3</td>\n",
       "    </tr>\n",
       "    <tr>\n",
       "      <th>1</th>\n",
       "      <td>B</td>\n",
       "      <td>0.5</td>\n",
       "    </tr>\n",
       "    <tr>\n",
       "      <th>2</th>\n",
       "      <td>C</td>\n",
       "      <td>0.9</td>\n",
       "    </tr>\n",
       "  </tbody>\n",
       "</table>\n",
       "</div>"
      ],
      "text/plain": [
       "  x|str  value|float\n",
       "0     A          0.3\n",
       "1     B          0.5\n",
       "2     C          0.9"
      ]
     },
     "execution_count": 6,
     "metadata": {},
     "output_type": "execute_result"
    }
   ],
   "source": [
    "df2 = pd.DataFrame(\n",
    "    {\n",
    "        'x|str':['A', 'B', 'C'],\n",
    "        'value|float': [0.3, 0.5, 0.9]\n",
    "    }\n",
    ")\n",
    "df2"
   ]
  },
  {
   "cell_type": "code",
   "execution_count": 7,
   "metadata": {},
   "outputs": [],
   "source": [
    "tab2 = Table(df2)"
   ]
  },
  {
   "cell_type": "code",
   "execution_count": 8,
   "metadata": {},
   "outputs": [
    {
     "data": {
      "text/plain": [
       "0.3"
      ]
     },
     "execution_count": 8,
     "metadata": {},
     "output_type": "execute_result"
    }
   ],
   "source": [
    "tab2['A']"
   ]
  },
  {
   "cell_type": "code",
   "execution_count": 9,
   "metadata": {},
   "outputs": [
    {
     "data": {
      "text/plain": [
       "0.5"
      ]
     },
     "execution_count": 9,
     "metadata": {},
     "output_type": "execute_result"
    }
   ],
   "source": [
    "tab2['B']"
   ]
  },
  {
   "cell_type": "markdown",
   "metadata": {},
   "source": [
    "**Warning**: Note that the string lookup implementation currently uses a binary insertion algorithm, this means that you may get a false positive if you query a non-existent string.   For string lookups you should ensure you have validated data for consistency with assumptions, or consider converting to using integer keys for categories.  (e.g. `Male` -> 0, `Female` -> 1)\n",
    "\n",
    "This may be fixed in a future version of heavylight."
   ]
  },
  {
   "cell_type": "code",
   "execution_count": 17,
   "metadata": {},
   "outputs": [
    {
     "name": "stdout",
     "output_type": "stream",
     "text": [
      "KeyError('invalid string key(s) passed into table lookup.')\n"
     ]
    }
   ],
   "source": [
    "try:\n",
    "    tab2['AB']   # key doesn't exist\n",
    "except KeyError as err:\n",
    "    print(repr(err))"
   ]
  },
  {
   "cell_type": "markdown",
   "metadata": {},
   "source": [
    "Again, we can lookup up an array of keys and obtain an array of values."
   ]
  },
  {
   "cell_type": "code",
   "execution_count": null,
   "metadata": {},
   "outputs": [
    {
     "data": {
      "text/plain": [
       "array([0.3, 0.3, 0.9, 0.5])"
      ]
     },
     "execution_count": 11,
     "metadata": {},
     "output_type": "execute_result"
    }
   ],
   "source": [
    "x2s = np.array(['A', 'A', 'C', 'B'])\n",
    "tab2[x2s]"
   ]
  },
  {
   "cell_type": "markdown",
   "metadata": {},
   "source": [
    "Note that if the key doesn't exist and it is greater than the largest value, then an error will correctly be returned."
   ]
  },
  {
   "cell_type": "code",
   "execution_count": null,
   "metadata": {},
   "outputs": [
    {
     "name": "stdout",
     "output_type": "stream",
     "text": [
      "IndexError('index 3 is out of bounds for axis 0 with size 3')\n"
     ]
    }
   ],
   "source": [
    "try:\n",
    "    tab2['Z']\n",
    "except Exception as err:\n",
    "    print(repr(err))"
   ]
  },
  {
   "cell_type": "markdown",
   "metadata": {},
   "source": [
    "## Example 3: Banded Key\n",
    "\n",
    "Often we may want to get a value for a range of inputs, for example if a fee applies to a range of fund values, or reinsurance rates are set by sum assured bands.\n",
    "\n",
    "We can assign one or more band tables using the `|band` suffix, which specifies the upper bound for that band.\n",
    "\n",
    "The interval is open on the left, closed on the right, i.e. $(B-1, B]$ with the first band being $[-\\infty, B]$.  For an open ended final band, `np.inf` or a significantly high number should be chosen."
   ]
  },
  {
   "cell_type": "code",
   "execution_count": null,
   "metadata": {},
   "outputs": [
    {
     "data": {
      "text/html": [
       "<div>\n",
       "<style scoped>\n",
       "    .dataframe tbody tr th:only-of-type {\n",
       "        vertical-align: middle;\n",
       "    }\n",
       "\n",
       "    .dataframe tbody tr th {\n",
       "        vertical-align: top;\n",
       "    }\n",
       "\n",
       "    .dataframe thead th {\n",
       "        text-align: right;\n",
       "    }\n",
       "</style>\n",
       "<table border=\"1\" class=\"dataframe\">\n",
       "  <thead>\n",
       "    <tr style=\"text-align: right;\">\n",
       "      <th></th>\n",
       "      <th>age_to|band</th>\n",
       "      <th>value|str</th>\n",
       "    </tr>\n",
       "  </thead>\n",
       "  <tbody>\n",
       "    <tr>\n",
       "      <th>0</th>\n",
       "      <td>20.0</td>\n",
       "      <td>age_to_020</td>\n",
       "    </tr>\n",
       "    <tr>\n",
       "      <th>1</th>\n",
       "      <td>30.0</td>\n",
       "      <td>age_to_030</td>\n",
       "    </tr>\n",
       "    <tr>\n",
       "      <th>2</th>\n",
       "      <td>40.0</td>\n",
       "      <td>age_to_040</td>\n",
       "    </tr>\n",
       "    <tr>\n",
       "      <th>3</th>\n",
       "      <td>60.0</td>\n",
       "      <td>age_to_060</td>\n",
       "    </tr>\n",
       "    <tr>\n",
       "      <th>4</th>\n",
       "      <td>90.0</td>\n",
       "      <td>age_to_090</td>\n",
       "    </tr>\n",
       "    <tr>\n",
       "      <th>5</th>\n",
       "      <td>130.0</td>\n",
       "      <td>age_to_130</td>\n",
       "    </tr>\n",
       "    <tr>\n",
       "      <th>6</th>\n",
       "      <td>inf</td>\n",
       "      <td>age_to_inf</td>\n",
       "    </tr>\n",
       "  </tbody>\n",
       "</table>\n",
       "</div>"
      ],
      "text/plain": [
       "   age_to|band   value|str\n",
       "0         20.0  age_to_020\n",
       "1         30.0  age_to_030\n",
       "2         40.0  age_to_040\n",
       "3         60.0  age_to_060\n",
       "4         90.0  age_to_090\n",
       "5        130.0  age_to_130\n",
       "6          inf  age_to_inf"
      ]
     },
     "execution_count": 13,
     "metadata": {},
     "output_type": "execute_result"
    }
   ],
   "source": [
    "df3 = pd.DataFrame({\n",
    "    'age_to|band': np.array([20, 30, 40, 60, 90, 130, np.inf]),\n",
    "})\n",
    "df3['value|str'] = df3['age_to|band'].map(lambda i: f'age_to_{i:03.0f}')\n",
    "df3"
   ]
  },
  {
   "cell_type": "markdown",
   "metadata": {},
   "source": [
    "Create a table (again, passing the dataframe in is sufficient)"
   ]
  },
  {
   "cell_type": "code",
   "execution_count": null,
   "metadata": {},
   "outputs": [],
   "source": [
    "tab3 = Table(df3)"
   ]
  },
  {
   "cell_type": "markdown",
   "metadata": {},
   "source": [
    "We can look up any floating point value, and it will return the band it is contained within:"
   ]
  },
  {
   "cell_type": "code",
   "execution_count": null,
   "metadata": {},
   "outputs": [
    {
     "data": {
      "text/plain": [
       "'age_to_020'"
      ]
     },
     "execution_count": 15,
     "metadata": {},
     "output_type": "execute_result"
    }
   ],
   "source": [
    "tab3[18.5]"
   ]
  },
  {
   "cell_type": "code",
   "execution_count": null,
   "metadata": {},
   "outputs": [
    {
     "data": {
      "text/plain": [
       "'age_to_020'"
      ]
     },
     "execution_count": 16,
     "metadata": {},
     "output_type": "execute_result"
    }
   ],
   "source": [
    "tab3[20]"
   ]
  },
  {
   "cell_type": "code",
   "execution_count": null,
   "metadata": {},
   "outputs": [
    {
     "data": {
      "text/plain": [
       "'age_to_030'"
      ]
     },
     "execution_count": 17,
     "metadata": {},
     "output_type": "execute_result"
    }
   ],
   "source": [
    "tab3[20.00000001]"
   ]
  },
  {
   "cell_type": "code",
   "execution_count": null,
   "metadata": {},
   "outputs": [
    {
     "data": {
      "text/plain": [
       "'age_to_020'"
      ]
     },
     "execution_count": 18,
     "metadata": {},
     "output_type": "execute_result"
    }
   ],
   "source": [
    "# there is no lower bound (generally because the bands will be currency)\n",
    "tab3[-5]"
   ]
  },
  {
   "cell_type": "code",
   "execution_count": null,
   "metadata": {},
   "outputs": [
    {
     "name": "stdout",
     "output_type": "stream",
     "text": [
      "age_to_inf\n"
     ]
    }
   ],
   "source": [
    "# there is an upper bound, and will error if over this\n",
    "try:\n",
    "    print(tab3[131])\n",
    "except Exception as err:\n",
    "    print(repr(err))"
   ]
  },
  {
   "cell_type": "code",
   "execution_count": null,
   "metadata": {},
   "outputs": [
    {
     "data": {
      "text/html": [
       "<div>\n",
       "<style scoped>\n",
       "    .dataframe tbody tr th:only-of-type {\n",
       "        vertical-align: middle;\n",
       "    }\n",
       "\n",
       "    .dataframe tbody tr th {\n",
       "        vertical-align: top;\n",
       "    }\n",
       "\n",
       "    .dataframe thead th {\n",
       "        text-align: right;\n",
       "    }\n",
       "</style>\n",
       "<table border=\"1\" class=\"dataframe\">\n",
       "  <thead>\n",
       "    <tr style=\"text-align: right;\">\n",
       "      <th></th>\n",
       "      <th>x3s</th>\n",
       "      <th>result</th>\n",
       "    </tr>\n",
       "  </thead>\n",
       "  <tbody>\n",
       "    <tr>\n",
       "      <th>0</th>\n",
       "      <td>35.000000</td>\n",
       "      <td>age_to_040</td>\n",
       "    </tr>\n",
       "    <tr>\n",
       "      <th>1</th>\n",
       "      <td>35.769231</td>\n",
       "      <td>age_to_040</td>\n",
       "    </tr>\n",
       "    <tr>\n",
       "      <th>2</th>\n",
       "      <td>36.538462</td>\n",
       "      <td>age_to_040</td>\n",
       "    </tr>\n",
       "    <tr>\n",
       "      <th>3</th>\n",
       "      <td>37.307692</td>\n",
       "      <td>age_to_040</td>\n",
       "    </tr>\n",
       "    <tr>\n",
       "      <th>4</th>\n",
       "      <td>38.076923</td>\n",
       "      <td>age_to_040</td>\n",
       "    </tr>\n",
       "    <tr>\n",
       "      <th>5</th>\n",
       "      <td>38.846154</td>\n",
       "      <td>age_to_040</td>\n",
       "    </tr>\n",
       "    <tr>\n",
       "      <th>6</th>\n",
       "      <td>39.615385</td>\n",
       "      <td>age_to_040</td>\n",
       "    </tr>\n",
       "    <tr>\n",
       "      <th>7</th>\n",
       "      <td>40.384615</td>\n",
       "      <td>age_to_060</td>\n",
       "    </tr>\n",
       "    <tr>\n",
       "      <th>8</th>\n",
       "      <td>41.153846</td>\n",
       "      <td>age_to_060</td>\n",
       "    </tr>\n",
       "    <tr>\n",
       "      <th>9</th>\n",
       "      <td>41.923077</td>\n",
       "      <td>age_to_060</td>\n",
       "    </tr>\n",
       "    <tr>\n",
       "      <th>10</th>\n",
       "      <td>42.692308</td>\n",
       "      <td>age_to_060</td>\n",
       "    </tr>\n",
       "    <tr>\n",
       "      <th>11</th>\n",
       "      <td>43.461538</td>\n",
       "      <td>age_to_060</td>\n",
       "    </tr>\n",
       "    <tr>\n",
       "      <th>12</th>\n",
       "      <td>44.230769</td>\n",
       "      <td>age_to_060</td>\n",
       "    </tr>\n",
       "    <tr>\n",
       "      <th>13</th>\n",
       "      <td>45.000000</td>\n",
       "      <td>age_to_060</td>\n",
       "    </tr>\n",
       "  </tbody>\n",
       "</table>\n",
       "</div>"
      ],
      "text/plain": [
       "          x3s      result\n",
       "0   35.000000  age_to_040\n",
       "1   35.769231  age_to_040\n",
       "2   36.538462  age_to_040\n",
       "3   37.307692  age_to_040\n",
       "4   38.076923  age_to_040\n",
       "5   38.846154  age_to_040\n",
       "6   39.615385  age_to_040\n",
       "7   40.384615  age_to_060\n",
       "8   41.153846  age_to_060\n",
       "9   41.923077  age_to_060\n",
       "10  42.692308  age_to_060\n",
       "11  43.461538  age_to_060\n",
       "12  44.230769  age_to_060\n",
       "13  45.000000  age_to_060"
      ]
     },
     "execution_count": 20,
     "metadata": {},
     "output_type": "execute_result"
    }
   ],
   "source": [
    "x3s = np.linspace(35, 45, 14)\n",
    "pd.DataFrame({'x3s':x3s, 'result':tab3[x3s]})"
   ]
  },
  {
   "cell_type": "markdown",
   "metadata": {},
   "source": [
    "## Example 4: Bounded Integer\n",
    "\n",
    "If we are dealing with integer keys, sometimes we want the last key to be used for all higher values, for example in a mortality table with a 5 year select period, for durations 5+ we want to use the 5 year duration rate.  This can be accomplished by specifying the key column as a bounded integer: `|int_bound`.  When specified, this applies both on the lower and upper bounds."
   ]
  },
  {
   "cell_type": "code",
   "execution_count": null,
   "metadata": {},
   "outputs": [
    {
     "data": {
      "text/html": [
       "<div>\n",
       "<style scoped>\n",
       "    .dataframe tbody tr th:only-of-type {\n",
       "        vertical-align: middle;\n",
       "    }\n",
       "\n",
       "    .dataframe tbody tr th {\n",
       "        vertical-align: top;\n",
       "    }\n",
       "\n",
       "    .dataframe thead th {\n",
       "        text-align: right;\n",
       "    }\n",
       "</style>\n",
       "<table border=\"1\" class=\"dataframe\">\n",
       "  <thead>\n",
       "    <tr style=\"text-align: right;\">\n",
       "      <th></th>\n",
       "      <th>term|int_bound</th>\n",
       "      <th>rate</th>\n",
       "    </tr>\n",
       "  </thead>\n",
       "  <tbody>\n",
       "    <tr>\n",
       "      <th>0</th>\n",
       "      <td>5</td>\n",
       "      <td>0.05</td>\n",
       "    </tr>\n",
       "    <tr>\n",
       "      <th>1</th>\n",
       "      <td>6</td>\n",
       "      <td>0.06</td>\n",
       "    </tr>\n",
       "    <tr>\n",
       "      <th>2</th>\n",
       "      <td>7</td>\n",
       "      <td>0.07</td>\n",
       "    </tr>\n",
       "    <tr>\n",
       "      <th>3</th>\n",
       "      <td>8</td>\n",
       "      <td>0.08</td>\n",
       "    </tr>\n",
       "    <tr>\n",
       "      <th>4</th>\n",
       "      <td>9</td>\n",
       "      <td>0.09</td>\n",
       "    </tr>\n",
       "    <tr>\n",
       "      <th>5</th>\n",
       "      <td>10</td>\n",
       "      <td>0.10</td>\n",
       "    </tr>\n",
       "  </tbody>\n",
       "</table>\n",
       "</div>"
      ],
      "text/plain": [
       "   term|int_bound  rate\n",
       "0               5  0.05\n",
       "1               6  0.06\n",
       "2               7  0.07\n",
       "3               8  0.08\n",
       "4               9  0.09\n",
       "5              10  0.10"
      ]
     },
     "execution_count": 21,
     "metadata": {},
     "output_type": "execute_result"
    }
   ],
   "source": [
    "df4 = pd.DataFrame({\n",
    "    'term|int_bound': [5, 6, 7, 8, 9, 10],\n",
    "    'rate': [0.05, 0.06, 0.07, 0.08, 0.09, 0.1],\n",
    "})\n",
    "df4"
   ]
  },
  {
   "cell_type": "code",
   "execution_count": null,
   "metadata": {},
   "outputs": [],
   "source": [
    "tab4 = Table(df4)"
   ]
  },
  {
   "cell_type": "code",
   "execution_count": null,
   "metadata": {},
   "outputs": [
    {
     "data": {
      "text/plain": [
       "<Axes: >"
      ]
     },
     "execution_count": 23,
     "metadata": {},
     "output_type": "execute_result"
    },
    {
     "data": {
      "image/png": "[encoded data removed]",
      "text/plain": [
       "<Figure size 640x480 with 1 Axes>"
      ]
     },
     "metadata": {},
     "output_type": "display_data"
    }
   ],
   "source": [
    "x4s = np.arange(0, 15)\n",
    "sns.lineplot(x=x4s, y=tab4[x4s], markers=True)"
   ]
  },
  {
   "cell_type": "markdown",
   "metadata": {},
   "source": [
    "## Example 5: Two keys are better than one\n",
    "\n",
    "Tables often have multiple dimensions, e.g. Income Protection recovery rates vary by age, duration etc.  `Table` deals with these the same way as the one dimensional case."
   ]
  },
  {
   "cell_type": "code",
   "execution_count": null,
   "metadata": {},
   "outputs": [
    {
     "data": {
      "text/html": [
       "<div>\n",
       "<style scoped>\n",
       "    .dataframe tbody tr th:only-of-type {\n",
       "        vertical-align: middle;\n",
       "    }\n",
       "\n",
       "    .dataframe tbody tr th {\n",
       "        vertical-align: top;\n",
       "    }\n",
       "\n",
       "    .dataframe thead th {\n",
       "        text-align: right;\n",
       "    }\n",
       "</style>\n",
       "<table border=\"1\" class=\"dataframe\">\n",
       "  <thead>\n",
       "    <tr style=\"text-align: right;\">\n",
       "      <th></th>\n",
       "      <th>age|int_bound</th>\n",
       "      <th>dur|int_bound</th>\n",
       "      <th>values</th>\n",
       "    </tr>\n",
       "  </thead>\n",
       "  <tbody>\n",
       "    <tr>\n",
       "      <th>0</th>\n",
       "      <td>20</td>\n",
       "      <td>1</td>\n",
       "      <td>1.520000</td>\n",
       "    </tr>\n",
       "    <tr>\n",
       "      <th>1</th>\n",
       "      <td>21</td>\n",
       "      <td>1</td>\n",
       "      <td>1.530000</td>\n",
       "    </tr>\n",
       "    <tr>\n",
       "      <th>2</th>\n",
       "      <td>22</td>\n",
       "      <td>1</td>\n",
       "      <td>1.540000</td>\n",
       "    </tr>\n",
       "    <tr>\n",
       "      <th>3</th>\n",
       "      <td>23</td>\n",
       "      <td>1</td>\n",
       "      <td>1.550000</td>\n",
       "    </tr>\n",
       "    <tr>\n",
       "      <th>4</th>\n",
       "      <td>24</td>\n",
       "      <td>1</td>\n",
       "      <td>1.560000</td>\n",
       "    </tr>\n",
       "    <tr>\n",
       "      <th>...</th>\n",
       "      <td>...</td>\n",
       "      <td>...</td>\n",
       "      <td>...</td>\n",
       "    </tr>\n",
       "    <tr>\n",
       "      <th>100</th>\n",
       "      <td>36</td>\n",
       "      <td>5</td>\n",
       "      <td>4.367464</td>\n",
       "    </tr>\n",
       "    <tr>\n",
       "      <th>101</th>\n",
       "      <td>37</td>\n",
       "      <td>5</td>\n",
       "      <td>4.377464</td>\n",
       "    </tr>\n",
       "    <tr>\n",
       "      <th>102</th>\n",
       "      <td>38</td>\n",
       "      <td>5</td>\n",
       "      <td>4.387464</td>\n",
       "    </tr>\n",
       "    <tr>\n",
       "      <th>103</th>\n",
       "      <td>39</td>\n",
       "      <td>5</td>\n",
       "      <td>4.397464</td>\n",
       "    </tr>\n",
       "    <tr>\n",
       "      <th>104</th>\n",
       "      <td>40</td>\n",
       "      <td>5</td>\n",
       "      <td>4.407464</td>\n",
       "    </tr>\n",
       "  </tbody>\n",
       "</table>\n",
       "<p>105 rows × 3 columns</p>\n",
       "</div>"
      ],
      "text/plain": [
       "     age|int_bound  dur|int_bound    values\n",
       "0               20              1  1.520000\n",
       "1               21              1  1.530000\n",
       "2               22              1  1.540000\n",
       "3               23              1  1.550000\n",
       "4               24              1  1.560000\n",
       "..             ...            ...       ...\n",
       "100             36              5  4.367464\n",
       "101             37              5  4.377464\n",
       "102             38              5  4.387464\n",
       "103             39              5  4.397464\n",
       "104             40              5  4.407464\n",
       "\n",
       "[105 rows x 3 columns]"
      ]
     },
     "execution_count": 24,
     "metadata": {},
     "output_type": "execute_result"
    }
   ],
   "source": [
    "df5 = pd.DataFrame({\n",
    "    'age|int_bound': np.tile(np.arange(20, 41), 5),\n",
    "    'dur|int_bound': np.repeat(np.arange(1, 6), (41-20))\n",
    "})\n",
    "df5['values'] = df5['age|int_bound'] * 0.01 + 1.32 ** df5['dur|int_bound']\n",
    "df5"
   ]
  },
  {
   "cell_type": "code",
   "execution_count": null,
   "metadata": {},
   "outputs": [],
   "source": [
    "tab5 = Table(df5)"
   ]
  },
  {
   "cell_type": "markdown",
   "metadata": {},
   "source": [
    "We can lookup the keys by passing in comma separated values"
   ]
  },
  {
   "cell_type": "code",
   "execution_count": null,
   "metadata": {},
   "outputs": [
    {
     "data": {
      "text/plain": [
       "4.4074642432000015"
      ]
     },
     "execution_count": 26,
     "metadata": {},
     "output_type": "execute_result"
    }
   ],
   "source": [
    "tab5[104, 40]"
   ]
  },
  {
   "cell_type": "markdown",
   "metadata": {},
   "source": [
    "Like the one dimensional case, we can pass in numpy arrays of values to each key, to obtain an array of results:"
   ]
  },
  {
   "cell_type": "code",
   "execution_count": null,
   "metadata": {},
   "outputs": [
    {
     "data": {
      "text/plain": [
       "array([1.52      , 1.9424    , 2.699968  , 4.30746424, 1.52      ,\n",
       "       4.40746424])"
      ]
     },
     "execution_count": 27,
     "metadata": {},
     "output_type": "execute_result"
    }
   ],
   "source": [
    "x5_age = np.array([20, 20, 40, 30, 0, 9999])\n",
    "x5_dur = np.array([1, 2, 3, 5, -2, 9999])\n",
    "tab5[x5_age, x5_dur]"
   ]
  },
  {
   "cell_type": "markdown",
   "metadata": {},
   "source": [
    "## Example 6: Error: Tables need to be complete\n",
    "\n",
    "If using more than one dimension, the table needs to be complete, i.e. len(key 1) x len(key 2) x len(key 3) == len(table).\n",
    "\n",
    "This is tested at table construction time.\n",
    "\n"
   ]
  },
  {
   "cell_type": "code",
   "execution_count": null,
   "metadata": {},
   "outputs": [
    {
     "data": {
      "text/html": [
       "<div>\n",
       "<style scoped>\n",
       "    .dataframe tbody tr th:only-of-type {\n",
       "        vertical-align: middle;\n",
       "    }\n",
       "\n",
       "    .dataframe tbody tr th {\n",
       "        vertical-align: top;\n",
       "    }\n",
       "\n",
       "    .dataframe thead th {\n",
       "        text-align: right;\n",
       "    }\n",
       "</style>\n",
       "<table border=\"1\" class=\"dataframe\">\n",
       "  <thead>\n",
       "    <tr style=\"text-align: right;\">\n",
       "      <th></th>\n",
       "      <th>k1|int</th>\n",
       "      <th>k2|str</th>\n",
       "      <th>values</th>\n",
       "    </tr>\n",
       "  </thead>\n",
       "  <tbody>\n",
       "    <tr>\n",
       "      <th>0</th>\n",
       "      <td>1</td>\n",
       "      <td>A</td>\n",
       "      <td>1</td>\n",
       "    </tr>\n",
       "    <tr>\n",
       "      <th>1</th>\n",
       "      <td>2</td>\n",
       "      <td>A</td>\n",
       "      <td>2</td>\n",
       "    </tr>\n",
       "    <tr>\n",
       "      <th>2</th>\n",
       "      <td>3</td>\n",
       "      <td>A</td>\n",
       "      <td>3</td>\n",
       "    </tr>\n",
       "    <tr>\n",
       "      <th>3</th>\n",
       "      <td>4</td>\n",
       "      <td>A</td>\n",
       "      <td>4</td>\n",
       "    </tr>\n",
       "    <tr>\n",
       "      <th>4</th>\n",
       "      <td>1</td>\n",
       "      <td>B</td>\n",
       "      <td>11</td>\n",
       "    </tr>\n",
       "    <tr>\n",
       "      <th>5</th>\n",
       "      <td>2</td>\n",
       "      <td>B</td>\n",
       "      <td>22</td>\n",
       "    </tr>\n",
       "  </tbody>\n",
       "</table>\n",
       "</div>"
      ],
      "text/plain": [
       "   k1|int k2|str  values\n",
       "0       1      A       1\n",
       "1       2      A       2\n",
       "2       3      A       3\n",
       "3       4      A       4\n",
       "4       1      B      11\n",
       "5       2      B      22"
      ]
     },
     "execution_count": 28,
     "metadata": {},
     "output_type": "execute_result"
    }
   ],
   "source": [
    "df6 = pd.DataFrame({\n",
    "    'k1|int': [1, 2, 3, 4, 1, 2],\n",
    "    'k2|str': list('AAAABB'),\n",
    "    'values': [1, 2, 3, 4, 11, 22]\n",
    "})\n",
    "df6"
   ]
  },
  {
   "cell_type": "code",
   "execution_count": null,
   "metadata": {},
   "outputs": [
    {
     "name": "stdout",
     "output_type": "stream",
     "text": [
      "ValueError('Input `df` is not rectangular, expected_rows=8 != len(self.values)=6')\n"
     ]
    }
   ],
   "source": [
    "# This will trigger a value error\n",
    "\n",
    "try:\n",
    "    tab6 = Table(df6)\n",
    "except Exception as err:\n",
    "    print(repr(err))"
   ]
  },
  {
   "cell_type": "markdown",
   "metadata": {},
   "source": [
    "We can attempt ensure tables are rectangular by using the `rectify` parameter.  This may not work if the table is sufficiently complex.  In some cases you may prefer to split the table into several tables."
   ]
  },
  {
   "cell_type": "code",
   "execution_count": null,
   "metadata": {},
   "outputs": [],
   "source": [
    "tab6b = Table(df6, rectify=True)"
   ]
  },
  {
   "cell_type": "markdown",
   "metadata": {},
   "source": [
    "Keys with values are looked up as expected:"
   ]
  },
  {
   "cell_type": "code",
   "execution_count": null,
   "metadata": {},
   "outputs": [
    {
     "data": {
      "text/plain": [
       "1.0"
      ]
     },
     "execution_count": 31,
     "metadata": {},
     "output_type": "execute_result"
    }
   ],
   "source": [
    "tab6b[1, 'A']"
   ]
  },
  {
   "cell_type": "markdown",
   "metadata": {},
   "source": [
    "Keys which aren't specified (i.e. `3, 'B'` and `4, 'B'`) return `np.nan`:"
   ]
  },
  {
   "cell_type": "code",
   "execution_count": null,
   "metadata": {},
   "outputs": [
    {
     "data": {
      "text/plain": [
       "nan"
      ]
     },
     "execution_count": 32,
     "metadata": {},
     "output_type": "execute_result"
    }
   ],
   "source": [
    "tab6b[4, 'B']"
   ]
  },
  {
   "cell_type": "markdown",
   "metadata": {},
   "source": [
    "Examples for the `read_csv` and `read_excel` methods are not included here, as they depend on the availability of suitable files."
   ]
  },
  {
   "cell_type": "markdown",
   "metadata": {},
   "source": [
    "## Example 7: Integer Category Keys\n",
    "\n",
    "*Added in v1.0.10*.  `|int` and `|int_bound` both assume integer keys are consecutive integers.  `int_cat` allows for arbitrary integer keys.  This is likely slower to evaluate, so it may be worthwhile considering encoding to integers directly, particularly as categories are all likely to be fed from data.  (e.g. 4,6,10 -> 0, 1, 2)"
   ]
  },
  {
   "cell_type": "code",
   "execution_count": 11,
   "metadata": {},
   "outputs": [
    {
     "data": {
      "application/vnd.microsoft.datawrangler.viewer.v0+json": {
       "columns": [
        {
         "name": "index",
         "rawType": "int64",
         "type": "integer"
        },
        {
         "name": "deferred_period|int_cat",
         "rawType": "int64",
         "type": "integer"
        },
        {
         "name": "values|str",
         "rawType": "object",
         "type": "string"
        }
       ],
       "conversionMethod": "pd.DataFrame",
       "ref": "5c961005-641e-4c18-bd16-55322a38490e",
       "rows": [
        [
         "0",
         "1",
         "one week"
        ],
        [
         "1",
         "4",
         "one month"
        ],
        [
         "2",
         "12",
         "three months"
        ],
        [
         "3",
         "26",
         "six months"
        ],
        [
         "4",
         "52",
         "one year"
        ]
       ],
       "shape": {
        "columns": 2,
        "rows": 5
       }
      },
      "text/html": [
       "<div>\n",
       "<style scoped>\n",
       "    .dataframe tbody tr th:only-of-type {\n",
       "        vertical-align: middle;\n",
       "    }\n",
       "\n",
       "    .dataframe tbody tr th {\n",
       "        vertical-align: top;\n",
       "    }\n",
       "\n",
       "    .dataframe thead th {\n",
       "        text-align: right;\n",
       "    }\n",
       "</style>\n",
       "<table border=\"1\" class=\"dataframe\">\n",
       "  <thead>\n",
       "    <tr style=\"text-align: right;\">\n",
       "      <th></th>\n",
       "      <th>deferred_period|int_cat</th>\n",
       "      <th>values|str</th>\n",
       "    </tr>\n",
       "  </thead>\n",
       "  <tbody>\n",
       "    <tr>\n",
       "      <th>0</th>\n",
       "      <td>1</td>\n",
       "      <td>one week</td>\n",
       "    </tr>\n",
       "    <tr>\n",
       "      <th>1</th>\n",
       "      <td>4</td>\n",
       "      <td>one month</td>\n",
       "    </tr>\n",
       "    <tr>\n",
       "      <th>2</th>\n",
       "      <td>12</td>\n",
       "      <td>three months</td>\n",
       "    </tr>\n",
       "    <tr>\n",
       "      <th>3</th>\n",
       "      <td>26</td>\n",
       "      <td>six months</td>\n",
       "    </tr>\n",
       "    <tr>\n",
       "      <th>4</th>\n",
       "      <td>52</td>\n",
       "      <td>one year</td>\n",
       "    </tr>\n",
       "  </tbody>\n",
       "</table>\n",
       "</div>"
      ],
      "text/plain": [
       "   deferred_period|int_cat    values|str\n",
       "0                        1      one week\n",
       "1                        4     one month\n",
       "2                       12  three months\n",
       "3                       26    six months\n",
       "4                       52      one year"
      ]
     },
     "execution_count": 11,
     "metadata": {},
     "output_type": "execute_result"
    }
   ],
   "source": [
    "df7 = pd.DataFrame({\n",
    "    'deferred_period|int_cat': [1, 4, 12, 26, 52],\n",
    "    'values|str': ['one week', 'one month', 'three months', 'six months', 'one year']\n",
    "})\n",
    "df7"
   ]
  },
  {
   "cell_type": "code",
   "execution_count": 12,
   "metadata": {},
   "outputs": [],
   "source": [
    "tab7 = Table(df7)"
   ]
  },
  {
   "cell_type": "code",
   "execution_count": 13,
   "metadata": {},
   "outputs": [
    {
     "data": {
      "text/plain": [
       "   deferred_period|int_cat    values|str\n",
       "0                        1      one week\n",
       "1                        4     one month\n",
       "2                       12  three months\n",
       "3                       26    six months\n",
       "4                       52      one year"
      ]
     },
     "execution_count": 13,
     "metadata": {},
     "output_type": "execute_result"
    }
   ],
   "source": [
    "tab7"
   ]
  },
  {
   "cell_type": "code",
   "execution_count": 14,
   "metadata": {},
   "outputs": [
    {
     "data": {
      "text/plain": [
       "'one month'"
      ]
     },
     "execution_count": 14,
     "metadata": {},
     "output_type": "execute_result"
    }
   ],
   "source": [
    "tab7[4]"
   ]
  },
  {
   "cell_type": "code",
   "execution_count": 16,
   "metadata": {},
   "outputs": [
    {
     "name": "stdout",
     "output_type": "stream",
     "text": [
      "KeyError('invalid integer category key(s) passed into table lookup.')\n"
     ]
    }
   ],
   "source": [
    "try:\n",
    "    tab7[5]\n",
    "except KeyError as err:\n",
    "    print(repr(err))"
   ]
  },
  {
   "cell_type": "code",
   "execution_count": null,
   "metadata": {},
   "outputs": [],
   "source": []
  }
 ],
 "metadata": {
  "kernelspec": {
   "display_name": "heavylight",
   "language": "python",
   "name": "python3"
  },
  "language_info": {
   "codemirror_mode": {
    "name": "ipython",
    "version": 3
   },
   "file_extension": ".py",
   "mimetype": "text/x-python",
   "name": "python",
   "nbconvert_exporter": "python",
   "pygments_lexer": "ipython3",
   "version": "3.11.5"
  }
 },
 "nbformat": 4,
 "nbformat_minor": 2
}
