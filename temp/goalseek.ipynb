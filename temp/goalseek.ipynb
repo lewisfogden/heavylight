{
 "cells": [
  {
   "cell_type": "code",
   "execution_count": 1,
   "metadata": {},
   "outputs": [],
   "source": [
    "import heavylight"
   ]
  },
  {
   "cell_type": "code",
   "execution_count": 2,
   "metadata": {},
   "outputs": [],
   "source": [
    "# goalseeking"
   ]
  },
  {
   "cell_type": "code",
   "execution_count": 21,
   "metadata": {},
   "outputs": [],
   "source": [
    "class ModelA(heavylight.Model):\n",
    "    def num_pols_if(self, t):\n",
    "        if t == 0:\n",
    "            return 1\n",
    "        elif t > self.t_mat:\n",
    "            return 0\n",
    "        else:\n",
    "            return self.num_pols_if(t - 1) * 0.95\n",
    "    def claims(self, t):\n",
    "        if t == self.t_mat:\n",
    "            return 100 * self.num_pols_if(t)\n",
    "        else:\n",
    "            return 0\n",
    "    \n",
    "    def premiums(self, t):\n",
    "        if t < self.t_mat:\n",
    "            return self.premium_pa * self.num_pols_if(t)\n",
    "        else:\n",
    "            return 0\n",
    "    \n",
    "    def net_cashflow(self, t):\n",
    "        return self.premiums(t) - self.claims(t)\n",
    "    \n",
    "    def v(self, t):\n",
    "        if t == 0:\n",
    "            return 1.0\n",
    "        else:\n",
    "            return self.v(t - 1) / (1.02)\n",
    "        \n",
    "    def pv_net_cf(self, t):\n",
    "        return self.net_cashflow(t) * self.v(t)\n",
    "    "
   ]
  },
  {
   "cell_type": "code",
   "execution_count": 22,
   "metadata": {},
   "outputs": [
    {
     "data": {
      "text/html": [
       "<div>\n",
       "<style scoped>\n",
       "    .dataframe tbody tr th:only-of-type {\n",
       "        vertical-align: middle;\n",
       "    }\n",
       "\n",
       "    .dataframe tbody tr th {\n",
       "        vertical-align: top;\n",
       "    }\n",
       "\n",
       "    .dataframe thead th {\n",
       "        text-align: right;\n",
       "    }\n",
       "</style>\n",
       "<table border=\"1\" class=\"dataframe\">\n",
       "  <thead>\n",
       "    <tr style=\"text-align: right;\">\n",
       "      <th></th>\n",
       "      <th>num_pols_if</th>\n",
       "      <th>claims</th>\n",
       "      <th>premiums</th>\n",
       "      <th>net_cashflow</th>\n",
       "      <th>v</th>\n",
       "      <th>pv_net_cf</th>\n",
       "    </tr>\n",
       "  </thead>\n",
       "  <tbody>\n",
       "    <tr>\n",
       "      <th>0</th>\n",
       "      <td>1.000000</td>\n",
       "      <td>0.000000</td>\n",
       "      <td>10.000000</td>\n",
       "      <td>10.000000</td>\n",
       "      <td>1.000000</td>\n",
       "      <td>10.000000</td>\n",
       "    </tr>\n",
       "    <tr>\n",
       "      <th>1</th>\n",
       "      <td>0.950000</td>\n",
       "      <td>0.000000</td>\n",
       "      <td>9.500000</td>\n",
       "      <td>9.500000</td>\n",
       "      <td>0.980392</td>\n",
       "      <td>9.313725</td>\n",
       "    </tr>\n",
       "    <tr>\n",
       "      <th>2</th>\n",
       "      <td>0.902500</td>\n",
       "      <td>0.000000</td>\n",
       "      <td>9.025000</td>\n",
       "      <td>9.025000</td>\n",
       "      <td>0.961169</td>\n",
       "      <td>8.674548</td>\n",
       "    </tr>\n",
       "    <tr>\n",
       "      <th>3</th>\n",
       "      <td>0.857375</td>\n",
       "      <td>0.000000</td>\n",
       "      <td>8.573750</td>\n",
       "      <td>8.573750</td>\n",
       "      <td>0.942322</td>\n",
       "      <td>8.079236</td>\n",
       "    </tr>\n",
       "    <tr>\n",
       "      <th>4</th>\n",
       "      <td>0.814506</td>\n",
       "      <td>0.000000</td>\n",
       "      <td>8.145062</td>\n",
       "      <td>8.145062</td>\n",
       "      <td>0.923845</td>\n",
       "      <td>7.524779</td>\n",
       "    </tr>\n",
       "    <tr>\n",
       "      <th>5</th>\n",
       "      <td>0.773781</td>\n",
       "      <td>0.000000</td>\n",
       "      <td>7.737809</td>\n",
       "      <td>7.737809</td>\n",
       "      <td>0.905731</td>\n",
       "      <td>7.008372</td>\n",
       "    </tr>\n",
       "    <tr>\n",
       "      <th>6</th>\n",
       "      <td>0.735092</td>\n",
       "      <td>0.000000</td>\n",
       "      <td>7.350919</td>\n",
       "      <td>7.350919</td>\n",
       "      <td>0.887971</td>\n",
       "      <td>6.527406</td>\n",
       "    </tr>\n",
       "    <tr>\n",
       "      <th>7</th>\n",
       "      <td>0.698337</td>\n",
       "      <td>0.000000</td>\n",
       "      <td>6.983373</td>\n",
       "      <td>6.983373</td>\n",
       "      <td>0.870560</td>\n",
       "      <td>6.079446</td>\n",
       "    </tr>\n",
       "    <tr>\n",
       "      <th>8</th>\n",
       "      <td>0.663420</td>\n",
       "      <td>66.342043</td>\n",
       "      <td>0.000000</td>\n",
       "      <td>-66.342043</td>\n",
       "      <td>0.853490</td>\n",
       "      <td>-56.622295</td>\n",
       "    </tr>\n",
       "    <tr>\n",
       "      <th>9</th>\n",
       "      <td>0.000000</td>\n",
       "      <td>0.000000</td>\n",
       "      <td>0.000000</td>\n",
       "      <td>0.000000</td>\n",
       "      <td>0.836755</td>\n",
       "      <td>0.000000</td>\n",
       "    </tr>\n",
       "  </tbody>\n",
       "</table>\n",
       "</div>"
      ],
      "text/plain": [
       "   num_pols_if     claims   premiums  net_cashflow         v  pv_net_cf\n",
       "0     1.000000   0.000000  10.000000     10.000000  1.000000  10.000000\n",
       "1     0.950000   0.000000   9.500000      9.500000  0.980392   9.313725\n",
       "2     0.902500   0.000000   9.025000      9.025000  0.961169   8.674548\n",
       "3     0.857375   0.000000   8.573750      8.573750  0.942322   8.079236\n",
       "4     0.814506   0.000000   8.145062      8.145062  0.923845   7.524779\n",
       "5     0.773781   0.000000   7.737809      7.737809  0.905731   7.008372\n",
       "6     0.735092   0.000000   7.350919      7.350919  0.887971   6.527406\n",
       "7     0.698337   0.000000   6.983373      6.983373  0.870560   6.079446\n",
       "8     0.663420  66.342043   0.000000    -66.342043  0.853490 -56.622295\n",
       "9     0.000000   0.000000   0.000000      0.000000  0.836755   0.000000"
      ]
     },
     "execution_count": 22,
     "metadata": {},
     "output_type": "execute_result"
    }
   ],
   "source": [
    "m = ModelA(proj_len=10, t_mat = 8, premium_pa=10)\n",
    "m.df"
   ]
  },
  {
   "cell_type": "code",
   "execution_count": 24,
   "metadata": {},
   "outputs": [
    {
     "data": {
      "text/plain": [
       "6.585217961667155"
      ]
     },
     "execution_count": 24,
     "metadata": {},
     "output_type": "execute_result"
    }
   ],
   "source": [
    "m.pv_net_cf.sum()"
   ]
  },
  {
   "cell_type": "code",
   "execution_count": 25,
   "metadata": {},
   "outputs": [],
   "source": [
    "def goalseek(model, target, variable, iterations=20):\n",
    "    \"\"\"goalseeking\"\"\"\n",
    "    pass"
   ]
  },
  {
   "cell_type": "code",
   "execution_count": 27,
   "metadata": {},
   "outputs": [
    {
     "name": "stdout",
     "output_type": "stream",
     "text": [
      "8.5 -2.895908984923004\n",
      "9.0 0.2644666639403823\n",
      "9.5 3.4248423128037686\n",
      "10.0 6.585217961667155\n",
      "10.5 9.745593610530541\n",
      "11 12.90596925939392\n"
     ]
    }
   ],
   "source": [
    "for prem in [8.5, 9.0, 9.5, 10.0, 10.5, 11]:\n",
    "    m = ModelA(proj_len=10, t_mat=8, premium_pa=prem)\n",
    "    print(prem, m.pv_net_cf.sum())"
   ]
  },
  {
   "cell_type": "code",
   "execution_count": null,
   "metadata": {},
   "outputs": [],
   "source": [
    "# problem here - you need to keep defining the model.\n",
    "# how do we do vectorised goalseek?"
   ]
  }
 ],
 "metadata": {
  "kernelspec": {
   "display_name": "heavylight",
   "language": "python",
   "name": "python3"
  },
  "language_info": {
   "codemirror_mode": {
    "name": "ipython",
    "version": 3
   },
   "file_extension": ".py",
   "mimetype": "text/x-python",
   "name": "python",
   "nbconvert_exporter": "python",
   "pygments_lexer": "ipython3",
   "version": "3.11.5"
  }
 },
 "nbformat": 4,
 "nbformat_minor": 2
}
